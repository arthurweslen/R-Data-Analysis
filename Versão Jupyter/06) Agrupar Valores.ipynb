{
 "cells": [
  {
   "cell_type": "markdown",
   "metadata": {},
   "source": [
    "# Agrupar Valores\n",
    "<br><i>\n",
    "    \n",
    "• Carregar pacotes necessários<br>\n",
    "• Carregar o arquivo Excel<br>\n",
    "• Exibir apenas as primeiras linhas<br>\n",
    "• Contar quantidade total de Linhas<br>\n",
    "• Contar o total de Países por Continente<br>\n"
   ]
  },
  {
   "cell_type": "code",
   "execution_count": 9,
   "metadata": {},
   "outputs": [
    {
     "data": {
      "text/html": [
       "<table>\n",
       "<thead><tr><th scope=col>País</th><th scope=col>Capital</th><th scope=col>Continente</th></tr></thead>\n",
       "<tbody>\n",
       "\t<tr><td>Afeganistão    </td><td>Cabul          </td><td>Ásia           </td></tr>\n",
       "\t<tr><td>África do Sul  </td><td>Pretória       </td><td>África         </td></tr>\n",
       "\t<tr><td>Albânia        </td><td>Tirana         </td><td>Europa         </td></tr>\n",
       "\t<tr><td>Alemanha       </td><td>Berlim         </td><td>Europa         </td></tr>\n",
       "\t<tr><td>Andorra        </td><td>Andorra-a-Velha</td><td>Europa         </td></tr>\n",
       "</tbody>\n",
       "</table>\n"
      ],
      "text/latex": [
       "\\begin{tabular}{r|lll}\n",
       " País & Capital & Continente\\\\\n",
       "\\hline\n",
       "\t Afeganistão     & Cabul           & Ásia           \\\\\n",
       "\t África do Sul   & Pretória        & África         \\\\\n",
       "\t Albânia         & Tirana          & Europa         \\\\\n",
       "\t Alemanha        & Berlim          & Europa         \\\\\n",
       "\t Andorra         & Andorra-a-Velha & Europa         \\\\\n",
       "\\end{tabular}\n"
      ],
      "text/markdown": [
       "\n",
       "| País | Capital | Continente |\n",
       "|---|---|---|\n",
       "| Afeganistão     | Cabul           | Ásia            |\n",
       "| África do Sul   | Pretória        | África          |\n",
       "| Albânia         | Tirana          | Europa          |\n",
       "| Alemanha        | Berlim          | Europa          |\n",
       "| Andorra         | Andorra-a-Velha | Europa          |\n",
       "\n"
      ],
      "text/plain": [
       "  País          Capital         Continente\n",
       "1 Afeganistão   Cabul           Ásia      \n",
       "2 África do Sul Pretória        África    \n",
       "3 Albânia       Tirana          Europa    \n",
       "4 Alemanha      Berlim          Europa    \n",
       "5 Andorra       Andorra-a-Velha Europa    "
      ]
     },
     "metadata": {},
     "output_type": "display_data"
    }
   ],
   "source": [
    "# CARREGAR PACOTES\n",
    "library(dplyr)\n",
    "library(readxl)\n",
    "library(stringr)\n",
    "\n",
    "\n",
    "# BUSCAR DIRETÓRIO (PASTA COM OS ARQUIVOS)\n",
    "setwd(\"F:/Documentos/R/UDEMY\")\n",
    "\n",
    "# Arquivo excel\n",
    "df <- read_xlsx(\"país_continente.xlsx\")\n",
    "\n",
    "# Exibir apenas as primeiras Linhas\n",
    "df  %>% slice(1:5, .preserve = TRUE)\n"
   ]
  },
  {
   "cell_type": "markdown",
   "metadata": {},
   "source": [
    "### Total de Linhas"
   ]
  },
  {
   "cell_type": "code",
   "execution_count": 19,
   "metadata": {},
   "outputs": [
    {
     "data": {
      "text/html": [
       "<table>\n",
       "<thead><tr><th scope=col>n</th></tr></thead>\n",
       "<tbody>\n",
       "\t<tr><td>201</td></tr>\n",
       "</tbody>\n",
       "</table>\n"
      ],
      "text/latex": [
       "\\begin{tabular}{r|l}\n",
       " n\\\\\n",
       "\\hline\n",
       "\t 201\\\\\n",
       "\\end{tabular}\n"
      ],
      "text/markdown": [
       "\n",
       "| n |\n",
       "|---|\n",
       "| 201 |\n",
       "\n"
      ],
      "text/plain": [
       "  n  \n",
       "1 201"
      ]
     },
     "metadata": {},
     "output_type": "display_data"
    }
   ],
   "source": [
    "count(df)"
   ]
  },
  {
   "cell_type": "code",
   "execution_count": 20,
   "metadata": {},
   "outputs": [
    {
     "data": {
      "text/html": [
       "<table>\n",
       "<thead><tr><th scope=col>Continente</th><th scope=col>n</th></tr></thead>\n",
       "<tbody>\n",
       "\t<tr><td>NA     </td><td> 4     </td></tr>\n",
       "\t<tr><td>África </td><td>54     </td></tr>\n",
       "\t<tr><td>América</td><td>35     </td></tr>\n",
       "\t<tr><td>Ásia   </td><td>47     </td></tr>\n",
       "\t<tr><td>Europa </td><td>46     </td></tr>\n",
       "\t<tr><td>Oceania</td><td>15     </td></tr>\n",
       "</tbody>\n",
       "</table>\n"
      ],
      "text/latex": [
       "\\begin{tabular}{r|ll}\n",
       " Continente & n\\\\\n",
       "\\hline\n",
       "\t NA      &  4     \\\\\n",
       "\t África  & 54     \\\\\n",
       "\t América & 35     \\\\\n",
       "\t Ásia    & 47     \\\\\n",
       "\t Europa  & 46     \\\\\n",
       "\t Oceania & 15     \\\\\n",
       "\\end{tabular}\n"
      ],
      "text/markdown": [
       "\n",
       "| Continente | n |\n",
       "|---|---|\n",
       "| NA      |  4      |\n",
       "| África  | 54      |\n",
       "| América | 35      |\n",
       "| Ásia    | 47      |\n",
       "| Europa  | 46      |\n",
       "| Oceania | 15      |\n",
       "\n"
      ],
      "text/plain": [
       "  Continente n \n",
       "1 NA          4\n",
       "2 África     54\n",
       "3 América    35\n",
       "4 Ásia       47\n",
       "5 Europa     46\n",
       "6 Oceania    15"
      ]
     },
     "metadata": {},
     "output_type": "display_data"
    }
   ],
   "source": [
    "# Contar Linhas\n",
    "count(df,Continente)\n",
    "\n",
    "# Listar continetes\n",
    "#distinct(df,Continente)\n"
   ]
  },
  {
   "cell_type": "markdown",
   "metadata": {},
   "source": [
    "### Número de Países por Continentes"
   ]
  },
  {
   "cell_type": "code",
   "execution_count": 25,
   "metadata": {},
   "outputs": [
    {
     "data": {
      "text/html": [
       "<table>\n",
       "<thead><tr><th scope=col>Continente</th><th scope=col>n</th></tr></thead>\n",
       "<tbody>\n",
       "\t<tr><td>NA     </td><td> 1     </td></tr>\n",
       "\t<tr><td>África </td><td>54     </td></tr>\n",
       "\t<tr><td>América</td><td>35     </td></tr>\n",
       "\t<tr><td>Ásia   </td><td>47     </td></tr>\n",
       "\t<tr><td>Europa </td><td>46     </td></tr>\n",
       "\t<tr><td>Oceania</td><td>15     </td></tr>\n",
       "</tbody>\n",
       "</table>\n"
      ],
      "text/latex": [
       "\\begin{tabular}{r|ll}\n",
       " Continente & n\\\\\n",
       "\\hline\n",
       "\t NA      &  1     \\\\\n",
       "\t África  & 54     \\\\\n",
       "\t América & 35     \\\\\n",
       "\t Ásia    & 47     \\\\\n",
       "\t Europa  & 46     \\\\\n",
       "\t Oceania & 15     \\\\\n",
       "\\end{tabular}\n"
      ],
      "text/markdown": [
       "\n",
       "| Continente | n |\n",
       "|---|---|\n",
       "| NA      |  1      |\n",
       "| África  | 54      |\n",
       "| América | 35      |\n",
       "| Ásia    | 47      |\n",
       "| Europa  | 46      |\n",
       "| Oceania | 15      |\n",
       "\n"
      ],
      "text/plain": [
       "  Continente n \n",
       "1 NA          1\n",
       "2 África     54\n",
       "3 América    35\n",
       "4 Ásia       47\n",
       "5 Europa     46\n",
       "6 Oceania    15"
      ]
     },
     "metadata": {},
     "output_type": "display_data"
    }
   ],
   "source": [
    "\n",
    "\n",
    "df_continente <-\n",
    "  df %>% \n",
    "  group_by(Continente) %>% \n",
    "  distinct(País) %>% \n",
    "  count()\n",
    "\n",
    "\n",
    "df_continente"
   ]
  },
  {
   "cell_type": "code",
   "execution_count": null,
   "metadata": {},
   "outputs": [],
   "source": []
  }
 ],
 "metadata": {
  "kernelspec": {
   "display_name": "R",
   "language": "R",
   "name": "ir"
  },
  "language_info": {
   "codemirror_mode": "r",
   "file_extension": ".r",
   "mimetype": "text/x-r-source",
   "name": "R",
   "pygments_lexer": "r",
   "version": "3.6.1"
  }
 },
 "nbformat": 4,
 "nbformat_minor": 4
}
