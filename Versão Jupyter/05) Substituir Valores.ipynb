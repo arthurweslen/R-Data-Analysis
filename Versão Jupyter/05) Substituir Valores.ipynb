{
 "cells": [
  {
   "cell_type": "markdown",
   "metadata": {},
   "source": [
    "# Substituir Valores\n",
    "<br><i>\n",
    "• Carregar bibliotecas e o documento <br>\n",
    "• Substituir um valor que está presente em toda tabela <br>\n",
    "• Substituir valores em cada coluna ou coluna específica <br>\n",
    "• Substituir Valores - Condicional<br>\n",
    "\n"
   ]
  },
  {
   "cell_type": "markdown",
   "metadata": {},
   "source": [
    "### Carregar bibliotecas e o documento"
   ]
  },
  {
   "cell_type": "code",
   "execution_count": 1,
   "metadata": {},
   "outputs": [
    {
     "name": "stderr",
     "output_type": "stream",
     "text": [
      "\n",
      "Attaching package: 'dplyr'\n",
      "\n",
      "The following objects are masked from 'package:stats':\n",
      "\n",
      "    filter, lag\n",
      "\n",
      "The following objects are masked from 'package:base':\n",
      "\n",
      "    intersect, setdiff, setequal, union\n",
      "\n",
      "Warning message:\n",
      "\"package 'readxl' was built under R version 3.6.3\""
     ]
    }
   ],
   "source": [
    "library(dplyr)\n",
    "library(readxl)\n",
    "library(stringr)"
   ]
  },
  {
   "cell_type": "code",
   "execution_count": 3,
   "metadata": {},
   "outputs": [
    {
     "data": {
      "text/html": [
       "<table>\n",
       "<thead><tr><th scope=col>Sexo</th><th scope=col>Idade</th><th scope=col>Estado</th><th scope=col>Salário</th><th scope=col>Ticket</th><th scope=col>COD_</th></tr></thead>\n",
       "<tbody>\n",
       "\t<tr><td>Masculino.year:2022</td><td>32                 </td><td>SP.year:2022       </td><td>2100               </td><td>NA                 </td><td>_001.year:2022     </td></tr>\n",
       "\t<tr><td>Masculino.year:2022</td><td>31                 </td><td>RJ.year:2022       </td><td>NA                 </td><td>700                </td><td>_002.year:2022     </td></tr>\n",
       "\t<tr><td>Masculino.year:2022</td><td>30                 </td><td>BA.year:2022       </td><td>4000               </td><td>NA                 </td><td>_002               </td></tr>\n",
       "\t<tr><td>Feminino           </td><td>#29                </td><td>PB.year:2022       </td><td>3500               </td><td>250                </td><td>_004.year:2022     </td></tr>\n",
       "\t<tr><td>Feminino           </td><td>#28                </td><td>PR.year:2022       </td><td>NA                 </td><td>NA                 </td><td>_005               </td></tr>\n",
       "\t<tr><td>Masculino.year:2022</td><td>33                 </td><td>MG.year:2022       </td><td>3300               </td><td>300.year:2022      </td><td>_006               </td></tr>\n",
       "\t<tr><td>Feminino           </td><td>34                 </td><td>RJ.year:2022       </td><td>2780               </td><td>NA                 </td><td>_007               </td></tr>\n",
       "\t<tr><td>Masculino.year:2022</td><td>45                 </td><td>SP.year:2022       </td><td>NA                 </td><td>500                </td><td>_008.year:2022     </td></tr>\n",
       "\t<tr><td>Feminino           </td><td>#27                </td><td>SP.year:2022       </td><td>4100               </td><td>NA                 </td><td>_009               </td></tr>\n",
       "\t<tr><td>Masculino.year:2022</td><td>#26                </td><td>SP.year:2022       </td><td>6200               </td><td>1000               </td><td>_010.year:2022     </td></tr>\n",
       "\t<tr><td>INVÁLIDO           </td><td>26                 </td><td>BA.year:2022       </td><td>NA                 </td><td>NA                 </td><td>_011               </td></tr>\n",
       "\t<tr><td>Feminino           </td><td>INVÁLIDO           </td><td>PB.year:2022       </td><td>1200               </td><td>250                </td><td>_012               </td></tr>\n",
       "\t<tr><td>Masculino.year:2022</td><td>33                 </td><td>INVÁLIDO           </td><td>3400               </td><td>NA                 </td><td>_013               </td></tr>\n",
       "\t<tr><td>Feminino           </td><td>34                 </td><td>PR.year:2022       </td><td>INVÁLIDO           </td><td>100                </td><td>_014               </td></tr>\n",
       "\t<tr><td>Masculino.year:2022</td><td>45                 </td><td>MG.year:2022       </td><td>4444               </td><td>INVÁLIDO           </td><td>_015               </td></tr>\n",
       "\t<tr><td>Feminino           </td><td>30                 </td><td>RJ.year:2022       </td><td>5555               </td><td>250                </td><td>INVÁLIDO           </td></tr>\n",
       "</tbody>\n",
       "</table>\n"
      ],
      "text/latex": [
       "\\begin{tabular}{r|llllll}\n",
       " Sexo & Idade & Estado & Salário & Ticket & COD\\_\\\\\n",
       "\\hline\n",
       "\t Masculino.year:2022 & 32                  & SP.year:2022        & 2100                & NA                  & \\_001.year:2022   \\\\\n",
       "\t Masculino.year:2022 & 31                  & RJ.year:2022        & NA                  & 700                 & \\_002.year:2022   \\\\\n",
       "\t Masculino.year:2022 & 30                  & BA.year:2022        & 4000                & NA                  & \\_002             \\\\\n",
       "\t Feminino            & \\#29               & PB.year:2022        & 3500                & 250                 & \\_004.year:2022   \\\\\n",
       "\t Feminino            & \\#28               & PR.year:2022        & NA                  & NA                  & \\_005             \\\\\n",
       "\t Masculino.year:2022 & 33                  & MG.year:2022        & 3300                & 300.year:2022       & \\_006             \\\\\n",
       "\t Feminino            & 34                  & RJ.year:2022        & 2780                & NA                  & \\_007             \\\\\n",
       "\t Masculino.year:2022 & 45                  & SP.year:2022        & NA                  & 500                 & \\_008.year:2022   \\\\\n",
       "\t Feminino            & \\#27               & SP.year:2022        & 4100                & NA                  & \\_009             \\\\\n",
       "\t Masculino.year:2022 & \\#26               & SP.year:2022        & 6200                & 1000                & \\_010.year:2022   \\\\\n",
       "\t INVÁLIDO            & 26                  & BA.year:2022        & NA                  & NA                  & \\_011             \\\\\n",
       "\t Feminino            & INVÁLIDO            & PB.year:2022        & 1200                & 250                 & \\_012             \\\\\n",
       "\t Masculino.year:2022 & 33                  & INVÁLIDO            & 3400                & NA                  & \\_013             \\\\\n",
       "\t Feminino            & 34                  & PR.year:2022        & INVÁLIDO            & 100                 & \\_014             \\\\\n",
       "\t Masculino.year:2022 & 45                  & MG.year:2022        & 4444                & INVÁLIDO            & \\_015             \\\\\n",
       "\t Feminino            & 30                  & RJ.year:2022        & 5555                & 250                 & INVÁLIDO           \\\\\n",
       "\\end{tabular}\n"
      ],
      "text/markdown": [
       "\n",
       "| Sexo | Idade | Estado | Salário | Ticket | COD_ |\n",
       "|---|---|---|---|---|---|\n",
       "| Masculino.year:2022 | 32                  | SP.year:2022        | 2100                | NA                  | _001.year:2022      |\n",
       "| Masculino.year:2022 | 31                  | RJ.year:2022        | NA                  | 700                 | _002.year:2022      |\n",
       "| Masculino.year:2022 | 30                  | BA.year:2022        | 4000                | NA                  | _002                |\n",
       "| Feminino            | #29                 | PB.year:2022        | 3500                | 250                 | _004.year:2022      |\n",
       "| Feminino            | #28                 | PR.year:2022        | NA                  | NA                  | _005                |\n",
       "| Masculino.year:2022 | 33                  | MG.year:2022        | 3300                | 300.year:2022       | _006                |\n",
       "| Feminino            | 34                  | RJ.year:2022        | 2780                | NA                  | _007                |\n",
       "| Masculino.year:2022 | 45                  | SP.year:2022        | NA                  | 500                 | _008.year:2022      |\n",
       "| Feminino            | #27                 | SP.year:2022        | 4100                | NA                  | _009                |\n",
       "| Masculino.year:2022 | #26                 | SP.year:2022        | 6200                | 1000                | _010.year:2022      |\n",
       "| INVÁLIDO            | 26                  | BA.year:2022        | NA                  | NA                  | _011                |\n",
       "| Feminino            | INVÁLIDO            | PB.year:2022        | 1200                | 250                 | _012                |\n",
       "| Masculino.year:2022 | 33                  | INVÁLIDO            | 3400                | NA                  | _013                |\n",
       "| Feminino            | 34                  | PR.year:2022        | INVÁLIDO            | 100                 | _014                |\n",
       "| Masculino.year:2022 | 45                  | MG.year:2022        | 4444                | INVÁLIDO            | _015                |\n",
       "| Feminino            | 30                  | RJ.year:2022        | 5555                | 250                 | INVÁLIDO            |\n",
       "\n"
      ],
      "text/plain": [
       "   Sexo                Idade    Estado       Salário  Ticket       \n",
       "1  Masculino.year:2022 32       SP.year:2022 2100     NA           \n",
       "2  Masculino.year:2022 31       RJ.year:2022 NA       700          \n",
       "3  Masculino.year:2022 30       BA.year:2022 4000     NA           \n",
       "4  Feminino            #29      PB.year:2022 3500     250          \n",
       "5  Feminino            #28      PR.year:2022 NA       NA           \n",
       "6  Masculino.year:2022 33       MG.year:2022 3300     300.year:2022\n",
       "7  Feminino            34       RJ.year:2022 2780     NA           \n",
       "8  Masculino.year:2022 45       SP.year:2022 NA       500          \n",
       "9  Feminino            #27      SP.year:2022 4100     NA           \n",
       "10 Masculino.year:2022 #26      SP.year:2022 6200     1000         \n",
       "11 INVÁLIDO            26       BA.year:2022 NA       NA           \n",
       "12 Feminino            INVÁLIDO PB.year:2022 1200     250          \n",
       "13 Masculino.year:2022 33       INVÁLIDO     3400     NA           \n",
       "14 Feminino            34       PR.year:2022 INVÁLIDO 100          \n",
       "15 Masculino.year:2022 45       MG.year:2022 4444     INVÁLIDO     \n",
       "16 Feminino            30       RJ.year:2022 5555     250          \n",
       "   COD_          \n",
       "1  _001.year:2022\n",
       "2  _002.year:2022\n",
       "3  _002          \n",
       "4  _004.year:2022\n",
       "5  _005          \n",
       "6  _006          \n",
       "7  _007          \n",
       "8  _008.year:2022\n",
       "9  _009          \n",
       "10 _010.year:2022\n",
       "11 _011          \n",
       "12 _012          \n",
       "13 _013          \n",
       "14 _014          \n",
       "15 _015          \n",
       "16 INVÁLIDO      "
      ]
     },
     "metadata": {},
     "output_type": "display_data"
    }
   ],
   "source": [
    "#Local do arquivo\n",
    "setwd(\"F:/Documentos/R/UDEMY\")\n",
    "\n",
    "# Arquivo excel\n",
    "df <- read_xlsx(\"substituir_valores.xlsx\")\n",
    "df\n"
   ]
  },
  {
   "cell_type": "markdown",
   "metadata": {},
   "source": [
    "### Substituir um valor que está presente em toda tabela"
   ]
  },
  {
   "cell_type": "code",
   "execution_count": 4,
   "metadata": {},
   "outputs": [
    {
     "data": {
      "text/html": [
       "<table>\n",
       "<thead><tr><th scope=col>Sexo</th><th scope=col>Idade</th><th scope=col>Estado</th><th scope=col>Salário</th><th scope=col>Ticket</th><th scope=col>COD_</th></tr></thead>\n",
       "<tbody>\n",
       "\t<tr><td>Masculino.year:2022</td><td>32                 </td><td>SP.year:2022       </td><td>2100               </td><td>NA                 </td><td>_001.year:2022     </td></tr>\n",
       "\t<tr><td>Masculino.year:2022</td><td>31                 </td><td>RJ.year:2022       </td><td>NA                 </td><td>700                </td><td>_002.year:2022     </td></tr>\n",
       "\t<tr><td>Masculino.year:2022</td><td>30                 </td><td>BA.year:2022       </td><td>4000               </td><td>NA                 </td><td>_002               </td></tr>\n",
       "\t<tr><td>Feminino           </td><td>#29                </td><td>PB.year:2022       </td><td>3500               </td><td>250                </td><td>_004.year:2022     </td></tr>\n",
       "\t<tr><td>Feminino           </td><td>#28                </td><td>PR.year:2022       </td><td>NA                 </td><td>NA                 </td><td>_005               </td></tr>\n",
       "\t<tr><td>Masculino.year:2022</td><td>33                 </td><td>MG.year:2022       </td><td>3300               </td><td>300.year:2022      </td><td>_006               </td></tr>\n",
       "\t<tr><td>Feminino           </td><td>34                 </td><td>RJ.year:2022       </td><td>2780               </td><td>NA                 </td><td>_007               </td></tr>\n",
       "\t<tr><td>Masculino.year:2022</td><td>45                 </td><td>SP.year:2022       </td><td>NA                 </td><td>500                </td><td>_008.year:2022     </td></tr>\n",
       "\t<tr><td>Feminino           </td><td>#27                </td><td>SP.year:2022       </td><td>4100               </td><td>NA                 </td><td>_009               </td></tr>\n",
       "\t<tr><td>Masculino.year:2022</td><td>#26                </td><td>SP.year:2022       </td><td>6200               </td><td>1000               </td><td>_010.year:2022     </td></tr>\n",
       "\t<tr><td>NA                 </td><td>26                 </td><td>BA.year:2022       </td><td>NA                 </td><td>NA                 </td><td>_011               </td></tr>\n",
       "\t<tr><td>Feminino           </td><td>NA                 </td><td>PB.year:2022       </td><td>1200               </td><td>250                </td><td>_012               </td></tr>\n",
       "\t<tr><td>Masculino.year:2022</td><td>33                 </td><td>NA                 </td><td>3400               </td><td>NA                 </td><td>_013               </td></tr>\n",
       "\t<tr><td>Feminino           </td><td>34                 </td><td>PR.year:2022       </td><td>NA                 </td><td>100                </td><td>_014               </td></tr>\n",
       "\t<tr><td>Masculino.year:2022</td><td>45                 </td><td>MG.year:2022       </td><td>4444               </td><td>NA                 </td><td>_015               </td></tr>\n",
       "\t<tr><td>Feminino           </td><td>30                 </td><td>RJ.year:2022       </td><td>5555               </td><td>250                </td><td>NA                 </td></tr>\n",
       "</tbody>\n",
       "</table>\n"
      ],
      "text/latex": [
       "\\begin{tabular}{r|llllll}\n",
       " Sexo & Idade & Estado & Salário & Ticket & COD\\_\\\\\n",
       "\\hline\n",
       "\t Masculino.year:2022 & 32                  & SP.year:2022        & 2100                & NA                  & \\_001.year:2022   \\\\\n",
       "\t Masculino.year:2022 & 31                  & RJ.year:2022        & NA                  & 700                 & \\_002.year:2022   \\\\\n",
       "\t Masculino.year:2022 & 30                  & BA.year:2022        & 4000                & NA                  & \\_002             \\\\\n",
       "\t Feminino            & \\#29               & PB.year:2022        & 3500                & 250                 & \\_004.year:2022   \\\\\n",
       "\t Feminino            & \\#28               & PR.year:2022        & NA                  & NA                  & \\_005             \\\\\n",
       "\t Masculino.year:2022 & 33                  & MG.year:2022        & 3300                & 300.year:2022       & \\_006             \\\\\n",
       "\t Feminino            & 34                  & RJ.year:2022        & 2780                & NA                  & \\_007             \\\\\n",
       "\t Masculino.year:2022 & 45                  & SP.year:2022        & NA                  & 500                 & \\_008.year:2022   \\\\\n",
       "\t Feminino            & \\#27               & SP.year:2022        & 4100                & NA                  & \\_009             \\\\\n",
       "\t Masculino.year:2022 & \\#26               & SP.year:2022        & 6200                & 1000                & \\_010.year:2022   \\\\\n",
       "\t NA                  & 26                  & BA.year:2022        & NA                  & NA                  & \\_011             \\\\\n",
       "\t Feminino            & NA                  & PB.year:2022        & 1200                & 250                 & \\_012             \\\\\n",
       "\t Masculino.year:2022 & 33                  & NA                  & 3400                & NA                  & \\_013             \\\\\n",
       "\t Feminino            & 34                  & PR.year:2022        & NA                  & 100                 & \\_014             \\\\\n",
       "\t Masculino.year:2022 & 45                  & MG.year:2022        & 4444                & NA                  & \\_015             \\\\\n",
       "\t Feminino            & 30                  & RJ.year:2022        & 5555                & 250                 & NA                 \\\\\n",
       "\\end{tabular}\n"
      ],
      "text/markdown": [
       "\n",
       "| Sexo | Idade | Estado | Salário | Ticket | COD_ |\n",
       "|---|---|---|---|---|---|\n",
       "| Masculino.year:2022 | 32                  | SP.year:2022        | 2100                | NA                  | _001.year:2022      |\n",
       "| Masculino.year:2022 | 31                  | RJ.year:2022        | NA                  | 700                 | _002.year:2022      |\n",
       "| Masculino.year:2022 | 30                  | BA.year:2022        | 4000                | NA                  | _002                |\n",
       "| Feminino            | #29                 | PB.year:2022        | 3500                | 250                 | _004.year:2022      |\n",
       "| Feminino            | #28                 | PR.year:2022        | NA                  | NA                  | _005                |\n",
       "| Masculino.year:2022 | 33                  | MG.year:2022        | 3300                | 300.year:2022       | _006                |\n",
       "| Feminino            | 34                  | RJ.year:2022        | 2780                | NA                  | _007                |\n",
       "| Masculino.year:2022 | 45                  | SP.year:2022        | NA                  | 500                 | _008.year:2022      |\n",
       "| Feminino            | #27                 | SP.year:2022        | 4100                | NA                  | _009                |\n",
       "| Masculino.year:2022 | #26                 | SP.year:2022        | 6200                | 1000                | _010.year:2022      |\n",
       "| NA                  | 26                  | BA.year:2022        | NA                  | NA                  | _011                |\n",
       "| Feminino            | NA                  | PB.year:2022        | 1200                | 250                 | _012                |\n",
       "| Masculino.year:2022 | 33                  | NA                  | 3400                | NA                  | _013                |\n",
       "| Feminino            | 34                  | PR.year:2022        | NA                  | 100                 | _014                |\n",
       "| Masculino.year:2022 | 45                  | MG.year:2022        | 4444                | NA                  | _015                |\n",
       "| Feminino            | 30                  | RJ.year:2022        | 5555                | 250                 | NA                  |\n",
       "\n"
      ],
      "text/plain": [
       "   Sexo                Idade Estado       Salário Ticket        COD_          \n",
       "1  Masculino.year:2022 32    SP.year:2022 2100    NA            _001.year:2022\n",
       "2  Masculino.year:2022 31    RJ.year:2022 NA      700           _002.year:2022\n",
       "3  Masculino.year:2022 30    BA.year:2022 4000    NA            _002          \n",
       "4  Feminino            #29   PB.year:2022 3500    250           _004.year:2022\n",
       "5  Feminino            #28   PR.year:2022 NA      NA            _005          \n",
       "6  Masculino.year:2022 33    MG.year:2022 3300    300.year:2022 _006          \n",
       "7  Feminino            34    RJ.year:2022 2780    NA            _007          \n",
       "8  Masculino.year:2022 45    SP.year:2022 NA      500           _008.year:2022\n",
       "9  Feminino            #27   SP.year:2022 4100    NA            _009          \n",
       "10 Masculino.year:2022 #26   SP.year:2022 6200    1000          _010.year:2022\n",
       "11 NA                  26    BA.year:2022 NA      NA            _011          \n",
       "12 Feminino            NA    PB.year:2022 1200    250           _012          \n",
       "13 Masculino.year:2022 33    NA           3400    NA            _013          \n",
       "14 Feminino            34    PR.year:2022 NA      100           _014          \n",
       "15 Masculino.year:2022 45    MG.year:2022 4444    NA            _015          \n",
       "16 Feminino            30    RJ.year:2022 5555    250           NA            "
      ]
     },
     "metadata": {},
     "output_type": "display_data"
    }
   ],
   "source": [
    "\n",
    "df[df == \"INVÁLIDO\"] <- NA\n",
    "df\n"
   ]
  },
  {
   "cell_type": "markdown",
   "metadata": {},
   "source": [
    "### Substituir valores em cada coluna "
   ]
  },
  {
   "cell_type": "code",
   "execution_count": 5,
   "metadata": {},
   "outputs": [
    {
     "data": {
      "text/html": [
       "<table>\n",
       "<thead><tr><th scope=col>Sexo</th><th scope=col>Idade</th><th scope=col>Estado</th><th scope=col>Salário</th><th scope=col>Ticket</th><th scope=col>COD_</th></tr></thead>\n",
       "<tbody>\n",
       "\t<tr><td>M   </td><td>32  </td><td>SP  </td><td>2100</td><td>NA  </td><td>_001</td></tr>\n",
       "\t<tr><td>M   </td><td>31  </td><td>RJ  </td><td>NA  </td><td>700 </td><td>_002</td></tr>\n",
       "\t<tr><td>M   </td><td>30  </td><td>BA  </td><td>4000</td><td>NA  </td><td>_002</td></tr>\n",
       "\t<tr><td>F   </td><td>29  </td><td>PB  </td><td>3500</td><td>250 </td><td>_004</td></tr>\n",
       "\t<tr><td>F   </td><td>28  </td><td>PR  </td><td>NA  </td><td>NA  </td><td>_005</td></tr>\n",
       "\t<tr><td>M   </td><td>33  </td><td>MG  </td><td>3300</td><td>300 </td><td>_006</td></tr>\n",
       "\t<tr><td>F   </td><td>34  </td><td>RJ  </td><td>2780</td><td>NA  </td><td>_007</td></tr>\n",
       "\t<tr><td>M   </td><td>45  </td><td>SP  </td><td>NA  </td><td>500 </td><td>_008</td></tr>\n",
       "\t<tr><td>F   </td><td>27  </td><td>SP  </td><td>4100</td><td>NA  </td><td>_009</td></tr>\n",
       "\t<tr><td>M   </td><td>26  </td><td>SP  </td><td>6200</td><td>1000</td><td>_010</td></tr>\n",
       "\t<tr><td>NA  </td><td>26  </td><td>BA  </td><td>NA  </td><td>NA  </td><td>_011</td></tr>\n",
       "\t<tr><td>F   </td><td>NA  </td><td>PB  </td><td>1200</td><td>250 </td><td>_012</td></tr>\n",
       "\t<tr><td>M   </td><td>33  </td><td>NA  </td><td>3400</td><td>NA  </td><td>_013</td></tr>\n",
       "\t<tr><td>F   </td><td>34  </td><td>PR  </td><td>NA  </td><td>100 </td><td>_014</td></tr>\n",
       "\t<tr><td>M   </td><td>45  </td><td>MG  </td><td>4444</td><td>NA  </td><td>_015</td></tr>\n",
       "\t<tr><td>F   </td><td>30  </td><td>RJ  </td><td>5555</td><td>250 </td><td>NA  </td></tr>\n",
       "</tbody>\n",
       "</table>\n"
      ],
      "text/latex": [
       "\\begin{tabular}{r|llllll}\n",
       " Sexo & Idade & Estado & Salário & Ticket & COD\\_\\\\\n",
       "\\hline\n",
       "\t M      & 32     & SP     & 2100   & NA     & \\_001\\\\\n",
       "\t M      & 31     & RJ     & NA     & 700    & \\_002\\\\\n",
       "\t M      & 30     & BA     & 4000   & NA     & \\_002\\\\\n",
       "\t F      & 29     & PB     & 3500   & 250    & \\_004\\\\\n",
       "\t F      & 28     & PR     & NA     & NA     & \\_005\\\\\n",
       "\t M      & 33     & MG     & 3300   & 300    & \\_006\\\\\n",
       "\t F      & 34     & RJ     & 2780   & NA     & \\_007\\\\\n",
       "\t M      & 45     & SP     & NA     & 500    & \\_008\\\\\n",
       "\t F      & 27     & SP     & 4100   & NA     & \\_009\\\\\n",
       "\t M      & 26     & SP     & 6200   & 1000   & \\_010\\\\\n",
       "\t NA     & 26     & BA     & NA     & NA     & \\_011\\\\\n",
       "\t F      & NA     & PB     & 1200   & 250    & \\_012\\\\\n",
       "\t M      & 33     & NA     & 3400   & NA     & \\_013\\\\\n",
       "\t F      & 34     & PR     & NA     & 100    & \\_014\\\\\n",
       "\t M      & 45     & MG     & 4444   & NA     & \\_015\\\\\n",
       "\t F    & 30   & RJ   & 5555 & 250  & NA  \\\\\n",
       "\\end{tabular}\n"
      ],
      "text/markdown": [
       "\n",
       "| Sexo | Idade | Estado | Salário | Ticket | COD_ |\n",
       "|---|---|---|---|---|---|\n",
       "| M    | 32   | SP   | 2100 | NA   | _001 |\n",
       "| M    | 31   | RJ   | NA   | 700  | _002 |\n",
       "| M    | 30   | BA   | 4000 | NA   | _002 |\n",
       "| F    | 29   | PB   | 3500 | 250  | _004 |\n",
       "| F    | 28   | PR   | NA   | NA   | _005 |\n",
       "| M    | 33   | MG   | 3300 | 300  | _006 |\n",
       "| F    | 34   | RJ   | 2780 | NA   | _007 |\n",
       "| M    | 45   | SP   | NA   | 500  | _008 |\n",
       "| F    | 27   | SP   | 4100 | NA   | _009 |\n",
       "| M    | 26   | SP   | 6200 | 1000 | _010 |\n",
       "| NA   | 26   | BA   | NA   | NA   | _011 |\n",
       "| F    | NA   | PB   | 1200 | 250  | _012 |\n",
       "| M    | 33   | NA   | 3400 | NA   | _013 |\n",
       "| F    | 34   | PR   | NA   | 100  | _014 |\n",
       "| M    | 45   | MG   | 4444 | NA   | _015 |\n",
       "| F    | 30   | RJ   | 5555 | 250  | NA   |\n",
       "\n"
      ],
      "text/plain": [
       "   Sexo Idade Estado Salário Ticket COD_\n",
       "1  M    32    SP     2100    NA     _001\n",
       "2  M    31    RJ     NA      700    _002\n",
       "3  M    30    BA     4000    NA     _002\n",
       "4  F    29    PB     3500    250    _004\n",
       "5  F    28    PR     NA      NA     _005\n",
       "6  M    33    MG     3300    300    _006\n",
       "7  F    34    RJ     2780    NA     _007\n",
       "8  M    45    SP     NA      500    _008\n",
       "9  F    27    SP     4100    NA     _009\n",
       "10 M    26    SP     6200    1000   _010\n",
       "11 NA   26    BA     NA      NA     _011\n",
       "12 F    NA    PB     1200    250    _012\n",
       "13 M    33    NA     3400    NA     _013\n",
       "14 F    34    PR     NA      100    _014\n",
       "15 M    45    MG     4444    NA     _015\n",
       "16 F    30    RJ     5555    250    NA  "
      ]
     },
     "metadata": {},
     "output_type": "display_data"
    }
   ],
   "source": [
    "df$Estado <-gsub(\".year:2022\", \"\", df$Estado)\n",
    "df$Ticket <-gsub(\".year:2022\", \"\",df$Ticket)\n",
    "df$COD_ <-gsub(\".year:2022\", \"\",df$COD_)\n",
    "df$Sexo <- gsub(\".year:2022\", \"\",df$Sexo)\n",
    "df$Sexo <- gsub(\"Feminino\", \"F\",df$Sexo)\n",
    "df$Sexo <- gsub(\"Masculino\",\"M\",df$Sexo)\n",
    "df$Idade <- gsub(\"#\",\"\",df$Idade)\n",
    "\n",
    "df"
   ]
  },
  {
   "cell_type": "markdown",
   "metadata": {},
   "source": [
    "### Substituir Valores - Condicional"
   ]
  },
  {
   "cell_type": "code",
   "execution_count": 6,
   "metadata": {},
   "outputs": [
    {
     "data": {
      "text/html": [
       "<table>\n",
       "<thead><tr><th scope=col>Sexo</th><th scope=col>Idade</th><th scope=col>Estado</th><th scope=col>Salário</th><th scope=col>Ticket</th><th scope=col>COD_</th></tr></thead>\n",
       "<tbody>\n",
       "\t<tr><td>M   </td><td>32  </td><td>SP  </td><td>2100</td><td>NA  </td><td>_001</td></tr>\n",
       "\t<tr><td>M   </td><td>31  </td><td>RJ  </td><td>NA  </td><td>700 </td><td>_002</td></tr>\n",
       "\t<tr><td>M   </td><td>30  </td><td>BA  </td><td>4000</td><td>NA  </td><td>_002</td></tr>\n",
       "\t<tr><td>F   </td><td>29  </td><td>PB  </td><td>3500</td><td>250 </td><td>_004</td></tr>\n",
       "\t<tr><td>F   </td><td>28  </td><td>PR  </td><td>NA  </td><td>NA  </td><td>_005</td></tr>\n",
       "\t<tr><td>M   </td><td>33  </td><td>MG  </td><td>3300</td><td>300 </td><td>_006</td></tr>\n",
       "\t<tr><td>F   </td><td>34  </td><td>RJ  </td><td>2780</td><td>NA  </td><td>_007</td></tr>\n",
       "\t<tr><td>M   </td><td>45  </td><td>SP  </td><td>NA  </td><td>500 </td><td>_008</td></tr>\n",
       "\t<tr><td>F   </td><td>27  </td><td>SP  </td><td>4100</td><td>NA  </td><td>_009</td></tr>\n",
       "\t<tr><td>M   </td><td>26  </td><td>SP  </td><td>6200</td><td>1000</td><td>_010</td></tr>\n",
       "\t<tr><td>NA  </td><td>26  </td><td>BA  </td><td>NA  </td><td>NA  </td><td>_011</td></tr>\n",
       "\t<tr><td>F   </td><td>NA  </td><td>PB  </td><td>1910</td><td>250 </td><td>_012</td></tr>\n",
       "\t<tr><td>M   </td><td>33  </td><td>NA  </td><td>3400</td><td>NA  </td><td>_013</td></tr>\n",
       "\t<tr><td>F   </td><td>34  </td><td>PR  </td><td>NA  </td><td>100 </td><td>_014</td></tr>\n",
       "\t<tr><td>M   </td><td>45  </td><td>MG  </td><td>4444</td><td>NA  </td><td>_015</td></tr>\n",
       "\t<tr><td>F   </td><td>30  </td><td>RJ  </td><td>5555</td><td>250 </td><td>NA  </td></tr>\n",
       "</tbody>\n",
       "</table>\n"
      ],
      "text/latex": [
       "\\begin{tabular}{r|llllll}\n",
       " Sexo & Idade & Estado & Salário & Ticket & COD\\_\\\\\n",
       "\\hline\n",
       "\t M      & 32     & SP     & 2100   & NA     & \\_001\\\\\n",
       "\t M      & 31     & RJ     & NA     & 700    & \\_002\\\\\n",
       "\t M      & 30     & BA     & 4000   & NA     & \\_002\\\\\n",
       "\t F      & 29     & PB     & 3500   & 250    & \\_004\\\\\n",
       "\t F      & 28     & PR     & NA     & NA     & \\_005\\\\\n",
       "\t M      & 33     & MG     & 3300   & 300    & \\_006\\\\\n",
       "\t F      & 34     & RJ     & 2780   & NA     & \\_007\\\\\n",
       "\t M      & 45     & SP     & NA     & 500    & \\_008\\\\\n",
       "\t F      & 27     & SP     & 4100   & NA     & \\_009\\\\\n",
       "\t M      & 26     & SP     & 6200   & 1000   & \\_010\\\\\n",
       "\t NA     & 26     & BA     & NA     & NA     & \\_011\\\\\n",
       "\t F      & NA     & PB     & 1910   & 250    & \\_012\\\\\n",
       "\t M      & 33     & NA     & 3400   & NA     & \\_013\\\\\n",
       "\t F      & 34     & PR     & NA     & 100    & \\_014\\\\\n",
       "\t M      & 45     & MG     & 4444   & NA     & \\_015\\\\\n",
       "\t F    & 30   & RJ   & 5555 & 250  & NA  \\\\\n",
       "\\end{tabular}\n"
      ],
      "text/markdown": [
       "\n",
       "| Sexo | Idade | Estado | Salário | Ticket | COD_ |\n",
       "|---|---|---|---|---|---|\n",
       "| M    | 32   | SP   | 2100 | NA   | _001 |\n",
       "| M    | 31   | RJ   | NA   | 700  | _002 |\n",
       "| M    | 30   | BA   | 4000 | NA   | _002 |\n",
       "| F    | 29   | PB   | 3500 | 250  | _004 |\n",
       "| F    | 28   | PR   | NA   | NA   | _005 |\n",
       "| M    | 33   | MG   | 3300 | 300  | _006 |\n",
       "| F    | 34   | RJ   | 2780 | NA   | _007 |\n",
       "| M    | 45   | SP   | NA   | 500  | _008 |\n",
       "| F    | 27   | SP   | 4100 | NA   | _009 |\n",
       "| M    | 26   | SP   | 6200 | 1000 | _010 |\n",
       "| NA   | 26   | BA   | NA   | NA   | _011 |\n",
       "| F    | NA   | PB   | 1910 | 250  | _012 |\n",
       "| M    | 33   | NA   | 3400 | NA   | _013 |\n",
       "| F    | 34   | PR   | NA   | 100  | _014 |\n",
       "| M    | 45   | MG   | 4444 | NA   | _015 |\n",
       "| F    | 30   | RJ   | 5555 | 250  | NA   |\n",
       "\n"
      ],
      "text/plain": [
       "   Sexo Idade Estado Salário Ticket COD_\n",
       "1  M    32    SP     2100    NA     _001\n",
       "2  M    31    RJ     NA      700    _002\n",
       "3  M    30    BA     4000    NA     _002\n",
       "4  F    29    PB     3500    250    _004\n",
       "5  F    28    PR     NA      NA     _005\n",
       "6  M    33    MG     3300    300    _006\n",
       "7  F    34    RJ     2780    NA     _007\n",
       "8  M    45    SP     NA      500    _008\n",
       "9  F    27    SP     4100    NA     _009\n",
       "10 M    26    SP     6200    1000   _010\n",
       "11 NA   26    BA     NA      NA     _011\n",
       "12 F    NA    PB     1910    250    _012\n",
       "13 M    33    NA     3400    NA     _013\n",
       "14 F    34    PR     NA      100    _014\n",
       "15 M    45    MG     4444    NA     _015\n",
       "16 F    30    RJ     5555    250    NA  "
      ]
     },
     "metadata": {},
     "output_type": "display_data"
    }
   ],
   "source": [
    "df$Salário[df$Salário <=1900] <- 1910\n",
    "  \n",
    "df"
   ]
  },
  {
   "cell_type": "code",
   "execution_count": null,
   "metadata": {},
   "outputs": [],
   "source": []
  }
 ],
 "metadata": {
  "kernelspec": {
   "display_name": "R",
   "language": "R",
   "name": "ir"
  },
  "language_info": {
   "codemirror_mode": "r",
   "file_extension": ".r",
   "mimetype": "text/x-r-source",
   "name": "R",
   "pygments_lexer": "r",
   "version": "3.6.1"
  }
 },
 "nbformat": 4,
 "nbformat_minor": 4
}
