{
 "cells": [
  {
   "cell_type": "markdown",
   "metadata": {},
   "source": [
    "# Operação Matemática\n",
    "\n",
    "<BR>\n",
    "<i> \n",
    "• Soma <br>\n",
    "• Máximo <br>\n",
    "• Mínimo <br>\n",
    "• Média <br>\n",
    "• Mediana <br> </i>"
   ]
  },
  {
   "cell_type": "markdown",
   "metadata": {},
   "source": [
    "### • Criando uma tabela"
   ]
  },
  {
   "cell_type": "code",
   "execution_count": 1,
   "metadata": {},
   "outputs": [
    {
     "data": {
      "text/html": [
       "<table>\n",
       "<thead><tr><th scope=col>mes_nome</th><th scope=col>ano</th><th scope=col>venda</th></tr></thead>\n",
       "<tbody>\n",
       "\t<tr><td>janeiro  </td><td>2021     </td><td>1250     </td></tr>\n",
       "\t<tr><td>fevereiro</td><td>2021     </td><td>2000     </td></tr>\n",
       "\t<tr><td>março    </td><td>2021     </td><td>1350     </td></tr>\n",
       "\t<tr><td>abril    </td><td>2021     </td><td>2412     </td></tr>\n",
       "\t<tr><td>maio     </td><td>2021     </td><td>3500     </td></tr>\n",
       "\t<tr><td>junho    </td><td>2021     </td><td>1633     </td></tr>\n",
       "\t<tr><td>julho    </td><td>2021     </td><td>4712     </td></tr>\n",
       "\t<tr><td>agosto   </td><td>2021     </td><td>1855     </td></tr>\n",
       "\t<tr><td>setembro </td><td>2021     </td><td>1900     </td></tr>\n",
       "\t<tr><td>outubro  </td><td>2021     </td><td>1450     </td></tr>\n",
       "\t<tr><td>novembro </td><td>2021     </td><td>2211     </td></tr>\n",
       "\t<tr><td>dezembro </td><td>2021     </td><td>3612     </td></tr>\n",
       "</tbody>\n",
       "</table>\n"
      ],
      "text/latex": [
       "\\begin{tabular}{r|lll}\n",
       " mes\\_nome & ano & venda\\\\\n",
       "\\hline\n",
       "\t janeiro   & 2021      & 1250     \\\\\n",
       "\t fevereiro & 2021      & 2000     \\\\\n",
       "\t março     & 2021      & 1350     \\\\\n",
       "\t abril     & 2021      & 2412     \\\\\n",
       "\t maio      & 2021      & 3500     \\\\\n",
       "\t junho     & 2021      & 1633     \\\\\n",
       "\t julho     & 2021      & 4712     \\\\\n",
       "\t agosto    & 2021      & 1855     \\\\\n",
       "\t setembro  & 2021      & 1900     \\\\\n",
       "\t outubro   & 2021      & 1450     \\\\\n",
       "\t novembro  & 2021      & 2211     \\\\\n",
       "\t dezembro  & 2021      & 3612     \\\\\n",
       "\\end{tabular}\n"
      ],
      "text/markdown": [
       "\n",
       "| mes_nome | ano | venda |\n",
       "|---|---|---|\n",
       "| janeiro   | 2021      | 1250      |\n",
       "| fevereiro | 2021      | 2000      |\n",
       "| março     | 2021      | 1350      |\n",
       "| abril     | 2021      | 2412      |\n",
       "| maio      | 2021      | 3500      |\n",
       "| junho     | 2021      | 1633      |\n",
       "| julho     | 2021      | 4712      |\n",
       "| agosto    | 2021      | 1855      |\n",
       "| setembro  | 2021      | 1900      |\n",
       "| outubro   | 2021      | 1450      |\n",
       "| novembro  | 2021      | 2211      |\n",
       "| dezembro  | 2021      | 3612      |\n",
       "\n"
      ],
      "text/plain": [
       "   mes_nome  ano  venda\n",
       "1  janeiro   2021 1250 \n",
       "2  fevereiro 2021 2000 \n",
       "3  março     2021 1350 \n",
       "4  abril     2021 2412 \n",
       "5  maio      2021 3500 \n",
       "6  junho     2021 1633 \n",
       "7  julho     2021 4712 \n",
       "8  agosto    2021 1855 \n",
       "9  setembro  2021 1900 \n",
       "10 outubro   2021 1450 \n",
       "11 novembro  2021 2211 \n",
       "12 dezembro  2021 3612 "
      ]
     },
     "metadata": {},
     "output_type": "display_data"
    }
   ],
   "source": [
    "mes_nome <- c(\"janeiro\",\"fevereiro\",\"março\",\"abril\",\"maio\",\"junho\",\"julho\",\n",
    "              \"agosto\",\"setembro\",\"outubro\",\"novembro\",\"dezembro\")\n",
    "ano <- c(2021,2021,2021,2021,2021,2021,2021,2021,2021,2021,2021,2021)\n",
    "venda <- c(1250,2000,1350,2412,3500,1633,4712,1855,1900,1450,2211,3612)\n",
    "\n",
    "\n",
    "#===================================\n",
    "df <- data.frame(mes_nome,ano,venda)\n",
    "(df)"
   ]
  },
  {
   "cell_type": "code",
   "execution_count": 2,
   "metadata": {},
   "outputs": [
    {
     "data": {
      "text/plain": [
       "      mes_nome      ano           venda     \n",
       " abril    :1   Min.   :2021   Min.   :1250  \n",
       " agosto   :1   1st Qu.:2021   1st Qu.:1587  \n",
       " dezembro :1   Median :2021   Median :1950  \n",
       " fevereiro:1   Mean   :2021   Mean   :2324  \n",
       " janeiro  :1   3rd Qu.:2021   3rd Qu.:2684  \n",
       " julho    :1   Max.   :2021   Max.   :4712  \n",
       " (Other)  :6                                "
      ]
     },
     "metadata": {},
     "output_type": "display_data"
    }
   ],
   "source": [
    "summary(df)"
   ]
  },
  {
   "cell_type": "markdown",
   "metadata": {},
   "source": [
    "### • Soma"
   ]
  },
  {
   "cell_type": "code",
   "execution_count": 3,
   "metadata": {},
   "outputs": [
    {
     "data": {
      "text/html": [
       "<ol class=list-inline>\n",
       "\t<li>'Soma da coluna venda é de:'</li>\n",
       "\t<li>'27885'</li>\n",
       "</ol>\n"
      ],
      "text/latex": [
       "\\begin{enumerate*}\n",
       "\\item 'Soma da coluna venda é de:'\n",
       "\\item '27885'\n",
       "\\end{enumerate*}\n"
      ],
      "text/markdown": [
       "1. 'Soma da coluna venda é de:'\n",
       "2. '27885'\n",
       "\n",
       "\n"
      ],
      "text/plain": [
       "[1] \"Soma da coluna venda é de:\" \"27885\"                     "
      ]
     },
     "metadata": {},
     "output_type": "display_data"
    }
   ],
   "source": [
    "soma <- sum(venda)\n",
    "frase_soma <- c('Soma da coluna venda é de:',soma)\n",
    "frase_soma\n",
    "\n",
    "#usar a letra \"c\""
   ]
  },
  {
   "cell_type": "markdown",
   "metadata": {},
   "source": [
    "### • Máximo"
   ]
  },
  {
   "cell_type": "code",
   "execution_count": 4,
   "metadata": {},
   "outputs": [
    {
     "data": {
      "text/html": [
       "<ol class=list-inline>\n",
       "\t<li>'Maior valor da coluna venda é de:'</li>\n",
       "\t<li>'4712'</li>\n",
       "</ol>\n"
      ],
      "text/latex": [
       "\\begin{enumerate*}\n",
       "\\item 'Maior valor da coluna venda é de:'\n",
       "\\item '4712'\n",
       "\\end{enumerate*}\n"
      ],
      "text/markdown": [
       "1. 'Maior valor da coluna venda é de:'\n",
       "2. '4712'\n",
       "\n",
       "\n"
      ],
      "text/plain": [
       "[1] \"Maior valor da coluna venda é de:\" \"4712\"                             "
      ]
     },
     "metadata": {},
     "output_type": "display_data"
    }
   ],
   "source": [
    "maximo <- max(venda)\n",
    "frase_maximo <- c('Maior valor da coluna venda é de:',maximo)\n",
    "frase_maximo"
   ]
  },
  {
   "cell_type": "markdown",
   "metadata": {},
   "source": [
    "### • Mínimo"
   ]
  },
  {
   "cell_type": "code",
   "execution_count": 5,
   "metadata": {},
   "outputs": [
    {
     "data": {
      "text/html": [
       "<ol class=list-inline>\n",
       "\t<li>'Menor valor da coluna venda é de:'</li>\n",
       "\t<li>'1250'</li>\n",
       "</ol>\n"
      ],
      "text/latex": [
       "\\begin{enumerate*}\n",
       "\\item 'Menor valor da coluna venda é de:'\n",
       "\\item '1250'\n",
       "\\end{enumerate*}\n"
      ],
      "text/markdown": [
       "1. 'Menor valor da coluna venda é de:'\n",
       "2. '1250'\n",
       "\n",
       "\n"
      ],
      "text/plain": [
       "[1] \"Menor valor da coluna venda é de:\" \"1250\"                             "
      ]
     },
     "metadata": {},
     "output_type": "display_data"
    }
   ],
   "source": [
    "minimo <- min(venda)\n",
    "frase_minimo <- c('Menor valor da coluna venda é de:',minimo)\n",
    "frase_minimo"
   ]
  },
  {
   "cell_type": "markdown",
   "metadata": {},
   "source": [
    "### • Média"
   ]
  },
  {
   "cell_type": "code",
   "execution_count": 6,
   "metadata": {},
   "outputs": [
    {
     "data": {
      "text/html": [
       "<ol class=list-inline>\n",
       "\t<li>'Media da coluna venda é de:'</li>\n",
       "\t<li>'2323.75'</li>\n",
       "</ol>\n"
      ],
      "text/latex": [
       "\\begin{enumerate*}\n",
       "\\item 'Media da coluna venda é de:'\n",
       "\\item '2323.75'\n",
       "\\end{enumerate*}\n"
      ],
      "text/markdown": [
       "1. 'Media da coluna venda é de:'\n",
       "2. '2323.75'\n",
       "\n",
       "\n"
      ],
      "text/plain": [
       "[1] \"Media da coluna venda é de:\" \"2323.75\"                    "
      ]
     },
     "metadata": {},
     "output_type": "display_data"
    }
   ],
   "source": [
    "media <- mean(venda)\n",
    "frase_media <- c('Media da coluna venda é de:',media)\n",
    "frase_media"
   ]
  },
  {
   "cell_type": "markdown",
   "metadata": {},
   "source": [
    "### • Mediana"
   ]
  },
  {
   "cell_type": "code",
   "execution_count": 7,
   "metadata": {},
   "outputs": [
    {
     "data": {
      "text/html": [
       "<ol class=list-inline>\n",
       "\t<li>'Mediana da coluna venda é de:'</li>\n",
       "\t<li>'1950'</li>\n",
       "</ol>\n"
      ],
      "text/latex": [
       "\\begin{enumerate*}\n",
       "\\item 'Mediana da coluna venda é de:'\n",
       "\\item '1950'\n",
       "\\end{enumerate*}\n"
      ],
      "text/markdown": [
       "1. 'Mediana da coluna venda é de:'\n",
       "2. '1950'\n",
       "\n",
       "\n"
      ],
      "text/plain": [
       "[1] \"Mediana da coluna venda é de:\" \"1950\"                         "
      ]
     },
     "metadata": {},
     "output_type": "display_data"
    }
   ],
   "source": [
    "mediana <- median(venda)\n",
    "frase_mediana <- c('Mediana da coluna venda é de:',mediana)\n",
    "frase_mediana"
   ]
  }
 ],
 "metadata": {
  "kernelspec": {
   "display_name": "R",
   "language": "R",
   "name": "ir"
  },
  "language_info": {
   "codemirror_mode": "r",
   "file_extension": ".r",
   "mimetype": "text/x-r-source",
   "name": "R",
   "pygments_lexer": "r",
   "version": "3.6.1"
  }
 },
 "nbformat": 4,
 "nbformat_minor": 4
}
