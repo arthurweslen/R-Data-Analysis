{
 "cells": [
  {
   "cell_type": "markdown",
   "metadata": {},
   "source": [
    "# Ordenar Colunas\n",
    "<br>\n",
    "\n",
    "<i>\n",
    "• Ordenar coluna de forma ascendente <br>\n",
    "• Ordenar coluna de forma descendente <br>\n",
    "• Ordenar por duas ou mais colunas\n"
   ]
  },
  {
   "cell_type": "code",
   "execution_count": 3,
   "metadata": {},
   "outputs": [
    {
     "name": "stderr",
     "output_type": "stream",
     "text": [
      "\n",
      "Attaching package: 'dplyr'\n",
      "\n",
      "The following objects are masked from 'package:stats':\n",
      "\n",
      "    filter, lag\n",
      "\n",
      "The following objects are masked from 'package:base':\n",
      "\n",
      "    intersect, setdiff, setequal, union\n",
      "\n"
     ]
    },
    {
     "data": {
      "text/html": [
       "<table>\n",
       "<thead><tr><th scope=col>Nome</th><th scope=col>Idade</th></tr></thead>\n",
       "<tbody>\n",
       "\t<tr><td>Abraão   </td><td>27       </td></tr>\n",
       "\t<tr><td>Bernardo </td><td>25       </td></tr>\n",
       "\t<tr><td>Pedro    </td><td>24       </td></tr>\n",
       "\t<tr><td>João     </td><td>18       </td></tr>\n",
       "\t<tr><td>Maria    </td><td>30       </td></tr>\n",
       "\t<tr><td>André    </td><td>51       </td></tr>\n",
       "\t<tr><td>Luiz     </td><td>21       </td></tr>\n",
       "\t<tr><td>Sandrinho</td><td>33       </td></tr>\n",
       "\t<tr><td>Lauro    </td><td>30       </td></tr>\n",
       "\t<tr><td>Eduardo  </td><td>27       </td></tr>\n",
       "\t<tr><td>Célia    </td><td>35       </td></tr>\n",
       "\t<tr><td>Jonas    </td><td>26       </td></tr>\n",
       "\t<tr><td>Gabriel  </td><td>24       </td></tr>\n",
       "\t<tr><td>Anderson </td><td>21       </td></tr>\n",
       "\t<tr><td>Mateus   </td><td>22       </td></tr>\n",
       "\t<tr><td>Paulo    </td><td>29       </td></tr>\n",
       "\t<tr><td>José     </td><td>46       </td></tr>\n",
       "\t<tr><td>Leandro  </td><td>32       </td></tr>\n",
       "</tbody>\n",
       "</table>\n"
      ],
      "text/latex": [
       "\\begin{tabular}{r|ll}\n",
       " Nome & Idade\\\\\n",
       "\\hline\n",
       "\t Abraão    & 27       \\\\\n",
       "\t Bernardo  & 25       \\\\\n",
       "\t Pedro     & 24       \\\\\n",
       "\t João      & 18       \\\\\n",
       "\t Maria     & 30       \\\\\n",
       "\t André     & 51       \\\\\n",
       "\t Luiz      & 21       \\\\\n",
       "\t Sandrinho & 33       \\\\\n",
       "\t Lauro     & 30       \\\\\n",
       "\t Eduardo   & 27       \\\\\n",
       "\t Célia     & 35       \\\\\n",
       "\t Jonas     & 26       \\\\\n",
       "\t Gabriel   & 24       \\\\\n",
       "\t Anderson  & 21       \\\\\n",
       "\t Mateus    & 22       \\\\\n",
       "\t Paulo     & 29       \\\\\n",
       "\t José      & 46       \\\\\n",
       "\t Leandro   & 32       \\\\\n",
       "\\end{tabular}\n"
      ],
      "text/markdown": [
       "\n",
       "| Nome | Idade |\n",
       "|---|---|\n",
       "| Abraão    | 27        |\n",
       "| Bernardo  | 25        |\n",
       "| Pedro     | 24        |\n",
       "| João      | 18        |\n",
       "| Maria     | 30        |\n",
       "| André     | 51        |\n",
       "| Luiz      | 21        |\n",
       "| Sandrinho | 33        |\n",
       "| Lauro     | 30        |\n",
       "| Eduardo   | 27        |\n",
       "| Célia     | 35        |\n",
       "| Jonas     | 26        |\n",
       "| Gabriel   | 24        |\n",
       "| Anderson  | 21        |\n",
       "| Mateus    | 22        |\n",
       "| Paulo     | 29        |\n",
       "| José      | 46        |\n",
       "| Leandro   | 32        |\n",
       "\n"
      ],
      "text/plain": [
       "   Nome      Idade\n",
       "1  Abraão    27   \n",
       "2  Bernardo  25   \n",
       "3  Pedro     24   \n",
       "4  João      18   \n",
       "5  Maria     30   \n",
       "6  André     51   \n",
       "7  Luiz      21   \n",
       "8  Sandrinho 33   \n",
       "9  Lauro     30   \n",
       "10 Eduardo   27   \n",
       "11 Célia     35   \n",
       "12 Jonas     26   \n",
       "13 Gabriel   24   \n",
       "14 Anderson  21   \n",
       "15 Mateus    22   \n",
       "16 Paulo     29   \n",
       "17 José      46   \n",
       "18 Leandro   32   "
      ]
     },
     "metadata": {},
     "output_type": "display_data"
    }
   ],
   "source": [
    "# CARREGAR PACOTE EXCEL\n",
    "library(dplyr)\n",
    "library(readxl)\n",
    "\n",
    "# BUSCAR DIRETÓRIO (PASTA COM OS ARQUIVOS)\n",
    "setwd(\"F:/Documentos/R/UDEMY\")\n",
    "\n",
    "#CARREGAR ARQUIVO\n",
    "df <- read_xlsx(\"ordenar.xlsx\")\n",
    "df\n"
   ]
  },
  {
   "cell_type": "markdown",
   "metadata": {},
   "source": [
    "### • Ordenar de forma ascendente"
   ]
  },
  {
   "cell_type": "code",
   "execution_count": 2,
   "metadata": {},
   "outputs": [
    {
     "data": {
      "text/html": [
       "<table>\n",
       "<thead><tr><th scope=col>Nome</th><th scope=col>Idade</th></tr></thead>\n",
       "<tbody>\n",
       "\t<tr><td>Abraão   </td><td>27       </td></tr>\n",
       "\t<tr><td>Anderson </td><td>21       </td></tr>\n",
       "\t<tr><td>André    </td><td>51       </td></tr>\n",
       "\t<tr><td>Bernardo </td><td>25       </td></tr>\n",
       "\t<tr><td>Célia    </td><td>35       </td></tr>\n",
       "\t<tr><td>Eduardo  </td><td>27       </td></tr>\n",
       "\t<tr><td>Gabriel  </td><td>24       </td></tr>\n",
       "\t<tr><td>João     </td><td>18       </td></tr>\n",
       "\t<tr><td>Jonas    </td><td>26       </td></tr>\n",
       "\t<tr><td>José     </td><td>46       </td></tr>\n",
       "\t<tr><td>Lauro    </td><td>30       </td></tr>\n",
       "\t<tr><td>Leandro  </td><td>32       </td></tr>\n",
       "\t<tr><td>Luiz     </td><td>21       </td></tr>\n",
       "\t<tr><td>Maria    </td><td>30       </td></tr>\n",
       "\t<tr><td>Mateus   </td><td>22       </td></tr>\n",
       "\t<tr><td>Paulo    </td><td>29       </td></tr>\n",
       "\t<tr><td>Pedro    </td><td>24       </td></tr>\n",
       "\t<tr><td>Sandrinho</td><td>33       </td></tr>\n",
       "</tbody>\n",
       "</table>\n"
      ],
      "text/latex": [
       "\\begin{tabular}{r|ll}\n",
       " Nome & Idade\\\\\n",
       "\\hline\n",
       "\t Abraão    & 27       \\\\\n",
       "\t Anderson  & 21       \\\\\n",
       "\t André     & 51       \\\\\n",
       "\t Bernardo  & 25       \\\\\n",
       "\t Célia     & 35       \\\\\n",
       "\t Eduardo   & 27       \\\\\n",
       "\t Gabriel   & 24       \\\\\n",
       "\t João      & 18       \\\\\n",
       "\t Jonas     & 26       \\\\\n",
       "\t José      & 46       \\\\\n",
       "\t Lauro     & 30       \\\\\n",
       "\t Leandro   & 32       \\\\\n",
       "\t Luiz      & 21       \\\\\n",
       "\t Maria     & 30       \\\\\n",
       "\t Mateus    & 22       \\\\\n",
       "\t Paulo     & 29       \\\\\n",
       "\t Pedro     & 24       \\\\\n",
       "\t Sandrinho & 33       \\\\\n",
       "\\end{tabular}\n"
      ],
      "text/markdown": [
       "\n",
       "| Nome | Idade |\n",
       "|---|---|\n",
       "| Abraão    | 27        |\n",
       "| Anderson  | 21        |\n",
       "| André     | 51        |\n",
       "| Bernardo  | 25        |\n",
       "| Célia     | 35        |\n",
       "| Eduardo   | 27        |\n",
       "| Gabriel   | 24        |\n",
       "| João      | 18        |\n",
       "| Jonas     | 26        |\n",
       "| José      | 46        |\n",
       "| Lauro     | 30        |\n",
       "| Leandro   | 32        |\n",
       "| Luiz      | 21        |\n",
       "| Maria     | 30        |\n",
       "| Mateus    | 22        |\n",
       "| Paulo     | 29        |\n",
       "| Pedro     | 24        |\n",
       "| Sandrinho | 33        |\n",
       "\n"
      ],
      "text/plain": [
       "   Nome      Idade\n",
       "1  Abraão    27   \n",
       "2  Anderson  21   \n",
       "3  André     51   \n",
       "4  Bernardo  25   \n",
       "5  Célia     35   \n",
       "6  Eduardo   27   \n",
       "7  Gabriel   24   \n",
       "8  João      18   \n",
       "9  Jonas     26   \n",
       "10 José      46   \n",
       "11 Lauro     30   \n",
       "12 Leandro   32   \n",
       "13 Luiz      21   \n",
       "14 Maria     30   \n",
       "15 Mateus    22   \n",
       "16 Paulo     29   \n",
       "17 Pedro     24   \n",
       "18 Sandrinho 33   "
      ]
     },
     "metadata": {},
     "output_type": "display_data"
    }
   ],
   "source": [
    "df_asc <- arrange(df,Nome)\n",
    "df_asc"
   ]
  },
  {
   "cell_type": "markdown",
   "metadata": {},
   "source": [
    "### • Ordenar de forma descendente"
   ]
  },
  {
   "cell_type": "code",
   "execution_count": 3,
   "metadata": {},
   "outputs": [
    {
     "data": {
      "text/html": [
       "<table>\n",
       "<thead><tr><th scope=col>Nome</th><th scope=col>Idade</th></tr></thead>\n",
       "<tbody>\n",
       "\t<tr><td>Sandrinho</td><td>33       </td></tr>\n",
       "\t<tr><td>Pedro    </td><td>24       </td></tr>\n",
       "\t<tr><td>Paulo    </td><td>29       </td></tr>\n",
       "\t<tr><td>Mateus   </td><td>22       </td></tr>\n",
       "\t<tr><td>Maria    </td><td>30       </td></tr>\n",
       "\t<tr><td>Luiz     </td><td>21       </td></tr>\n",
       "\t<tr><td>Leandro  </td><td>32       </td></tr>\n",
       "\t<tr><td>Lauro    </td><td>30       </td></tr>\n",
       "\t<tr><td>José     </td><td>46       </td></tr>\n",
       "\t<tr><td>Jonas    </td><td>26       </td></tr>\n",
       "\t<tr><td>João     </td><td>18       </td></tr>\n",
       "\t<tr><td>Gabriel  </td><td>24       </td></tr>\n",
       "\t<tr><td>Eduardo  </td><td>27       </td></tr>\n",
       "\t<tr><td>Célia    </td><td>35       </td></tr>\n",
       "\t<tr><td>Bernardo </td><td>25       </td></tr>\n",
       "\t<tr><td>André    </td><td>51       </td></tr>\n",
       "\t<tr><td>Anderson </td><td>21       </td></tr>\n",
       "\t<tr><td>Abraão   </td><td>27       </td></tr>\n",
       "</tbody>\n",
       "</table>\n"
      ],
      "text/latex": [
       "\\begin{tabular}{r|ll}\n",
       " Nome & Idade\\\\\n",
       "\\hline\n",
       "\t Sandrinho & 33       \\\\\n",
       "\t Pedro     & 24       \\\\\n",
       "\t Paulo     & 29       \\\\\n",
       "\t Mateus    & 22       \\\\\n",
       "\t Maria     & 30       \\\\\n",
       "\t Luiz      & 21       \\\\\n",
       "\t Leandro   & 32       \\\\\n",
       "\t Lauro     & 30       \\\\\n",
       "\t José      & 46       \\\\\n",
       "\t Jonas     & 26       \\\\\n",
       "\t João      & 18       \\\\\n",
       "\t Gabriel   & 24       \\\\\n",
       "\t Eduardo   & 27       \\\\\n",
       "\t Célia     & 35       \\\\\n",
       "\t Bernardo  & 25       \\\\\n",
       "\t André     & 51       \\\\\n",
       "\t Anderson  & 21       \\\\\n",
       "\t Abraão    & 27       \\\\\n",
       "\\end{tabular}\n"
      ],
      "text/markdown": [
       "\n",
       "| Nome | Idade |\n",
       "|---|---|\n",
       "| Sandrinho | 33        |\n",
       "| Pedro     | 24        |\n",
       "| Paulo     | 29        |\n",
       "| Mateus    | 22        |\n",
       "| Maria     | 30        |\n",
       "| Luiz      | 21        |\n",
       "| Leandro   | 32        |\n",
       "| Lauro     | 30        |\n",
       "| José      | 46        |\n",
       "| Jonas     | 26        |\n",
       "| João      | 18        |\n",
       "| Gabriel   | 24        |\n",
       "| Eduardo   | 27        |\n",
       "| Célia     | 35        |\n",
       "| Bernardo  | 25        |\n",
       "| André     | 51        |\n",
       "| Anderson  | 21        |\n",
       "| Abraão    | 27        |\n",
       "\n"
      ],
      "text/plain": [
       "   Nome      Idade\n",
       "1  Sandrinho 33   \n",
       "2  Pedro     24   \n",
       "3  Paulo     29   \n",
       "4  Mateus    22   \n",
       "5  Maria     30   \n",
       "6  Luiz      21   \n",
       "7  Leandro   32   \n",
       "8  Lauro     30   \n",
       "9  José      46   \n",
       "10 Jonas     26   \n",
       "11 João      18   \n",
       "12 Gabriel   24   \n",
       "13 Eduardo   27   \n",
       "14 Célia     35   \n",
       "15 Bernardo  25   \n",
       "16 André     51   \n",
       "17 Anderson  21   \n",
       "18 Abraão    27   "
      ]
     },
     "metadata": {},
     "output_type": "display_data"
    }
   ],
   "source": [
    "df_desc <- arrange(df, desc(Nome))\n",
    "df_desc"
   ]
  },
  {
   "cell_type": "markdown",
   "metadata": {},
   "source": [
    "### • Ordenar por múltiplas colunas"
   ]
  },
  {
   "cell_type": "code",
   "execution_count": 4,
   "metadata": {},
   "outputs": [
    {
     "data": {
      "text/html": [
       "<table>\n",
       "<thead><tr><th scope=col>Nome</th><th scope=col>Idade</th></tr></thead>\n",
       "<tbody>\n",
       "\t<tr><td>João     </td><td>18       </td></tr>\n",
       "\t<tr><td>Anderson </td><td>21       </td></tr>\n",
       "\t<tr><td>Luiz     </td><td>21       </td></tr>\n",
       "\t<tr><td>Mateus   </td><td>22       </td></tr>\n",
       "\t<tr><td>Gabriel  </td><td>24       </td></tr>\n",
       "\t<tr><td>Pedro    </td><td>24       </td></tr>\n",
       "\t<tr><td>Bernardo </td><td>25       </td></tr>\n",
       "\t<tr><td>Jonas    </td><td>26       </td></tr>\n",
       "\t<tr><td>Abraão   </td><td>27       </td></tr>\n",
       "\t<tr><td>Eduardo  </td><td>27       </td></tr>\n",
       "\t<tr><td>Paulo    </td><td>29       </td></tr>\n",
       "\t<tr><td>Lauro    </td><td>30       </td></tr>\n",
       "\t<tr><td>Maria    </td><td>30       </td></tr>\n",
       "\t<tr><td>Leandro  </td><td>32       </td></tr>\n",
       "\t<tr><td>Sandrinho</td><td>33       </td></tr>\n",
       "\t<tr><td>Célia    </td><td>35       </td></tr>\n",
       "\t<tr><td>José     </td><td>46       </td></tr>\n",
       "\t<tr><td>André    </td><td>51       </td></tr>\n",
       "</tbody>\n",
       "</table>\n"
      ],
      "text/latex": [
       "\\begin{tabular}{r|ll}\n",
       " Nome & Idade\\\\\n",
       "\\hline\n",
       "\t João      & 18       \\\\\n",
       "\t Anderson  & 21       \\\\\n",
       "\t Luiz      & 21       \\\\\n",
       "\t Mateus    & 22       \\\\\n",
       "\t Gabriel   & 24       \\\\\n",
       "\t Pedro     & 24       \\\\\n",
       "\t Bernardo  & 25       \\\\\n",
       "\t Jonas     & 26       \\\\\n",
       "\t Abraão    & 27       \\\\\n",
       "\t Eduardo   & 27       \\\\\n",
       "\t Paulo     & 29       \\\\\n",
       "\t Lauro     & 30       \\\\\n",
       "\t Maria     & 30       \\\\\n",
       "\t Leandro   & 32       \\\\\n",
       "\t Sandrinho & 33       \\\\\n",
       "\t Célia     & 35       \\\\\n",
       "\t José      & 46       \\\\\n",
       "\t André     & 51       \\\\\n",
       "\\end{tabular}\n"
      ],
      "text/markdown": [
       "\n",
       "| Nome | Idade |\n",
       "|---|---|\n",
       "| João      | 18        |\n",
       "| Anderson  | 21        |\n",
       "| Luiz      | 21        |\n",
       "| Mateus    | 22        |\n",
       "| Gabriel   | 24        |\n",
       "| Pedro     | 24        |\n",
       "| Bernardo  | 25        |\n",
       "| Jonas     | 26        |\n",
       "| Abraão    | 27        |\n",
       "| Eduardo   | 27        |\n",
       "| Paulo     | 29        |\n",
       "| Lauro     | 30        |\n",
       "| Maria     | 30        |\n",
       "| Leandro   | 32        |\n",
       "| Sandrinho | 33        |\n",
       "| Célia     | 35        |\n",
       "| José      | 46        |\n",
       "| André     | 51        |\n",
       "\n"
      ],
      "text/plain": [
       "   Nome      Idade\n",
       "1  João      18   \n",
       "2  Anderson  21   \n",
       "3  Luiz      21   \n",
       "4  Mateus    22   \n",
       "5  Gabriel   24   \n",
       "6  Pedro     24   \n",
       "7  Bernardo  25   \n",
       "8  Jonas     26   \n",
       "9  Abraão    27   \n",
       "10 Eduardo   27   \n",
       "11 Paulo     29   \n",
       "12 Lauro     30   \n",
       "13 Maria     30   \n",
       "14 Leandro   32   \n",
       "15 Sandrinho 33   \n",
       "16 Célia     35   \n",
       "17 José      46   \n",
       "18 André     51   "
      ]
     },
     "metadata": {},
     "output_type": "display_data"
    }
   ],
   "source": [
    "df%>%arrange(Idade,Nome)\n",
    "\n",
    "# Poderia fazer assim:\n",
    "# arrange(df,Idade,Nome)"
   ]
  },
  {
   "cell_type": "markdown",
   "metadata": {},
   "source": [
    "### • Exibir as primeiras linhas"
   ]
  },
  {
   "cell_type": "code",
   "execution_count": 18,
   "metadata": {},
   "outputs": [
    {
     "data": {
      "text/html": [
       "<table>\n",
       "<thead><tr><th scope=col>Nome</th><th scope=col>Idade</th></tr></thead>\n",
       "<tbody>\n",
       "\t<tr><td>João    </td><td>18      </td></tr>\n",
       "\t<tr><td>Luiz    </td><td>21      </td></tr>\n",
       "\t<tr><td>Anderson</td><td>21      </td></tr>\n",
       "</tbody>\n",
       "</table>\n"
      ],
      "text/latex": [
       "\\begin{tabular}{r|ll}\n",
       " Nome & Idade\\\\\n",
       "\\hline\n",
       "\t João     & 18      \\\\\n",
       "\t Luiz     & 21      \\\\\n",
       "\t Anderson & 21      \\\\\n",
       "\\end{tabular}\n"
      ],
      "text/markdown": [
       "\n",
       "| Nome | Idade |\n",
       "|---|---|\n",
       "| João     | 18       |\n",
       "| Luiz     | 21       |\n",
       "| Anderson | 21       |\n",
       "\n"
      ],
      "text/plain": [
       "  Nome     Idade\n",
       "1 João     18   \n",
       "2 Luiz     21   \n",
       "3 Anderson 21   "
      ]
     },
     "metadata": {},
     "output_type": "display_data"
    }
   ],
   "source": [
    "df %>%\n",
    "  arrange(Idade) %>%\n",
    "  head(df, n = 3)\n"
   ]
  },
  {
   "cell_type": "markdown",
   "metadata": {},
   "source": [
    "### • Exibir as últimas linhas"
   ]
  },
  {
   "cell_type": "code",
   "execution_count": 17,
   "metadata": {},
   "outputs": [
    {
     "data": {
      "text/html": [
       "<table>\n",
       "<thead><tr><th scope=col>Nome</th><th scope=col>Idade</th></tr></thead>\n",
       "<tbody>\n",
       "\t<tr><td>Célia</td><td>35   </td></tr>\n",
       "\t<tr><td>José </td><td>46   </td></tr>\n",
       "\t<tr><td>André</td><td>51   </td></tr>\n",
       "</tbody>\n",
       "</table>\n"
      ],
      "text/latex": [
       "\\begin{tabular}{r|ll}\n",
       " Nome & Idade\\\\\n",
       "\\hline\n",
       "\t Célia & 35   \\\\\n",
       "\t José  & 46   \\\\\n",
       "\t André & 51   \\\\\n",
       "\\end{tabular}\n"
      ],
      "text/markdown": [
       "\n",
       "| Nome | Idade |\n",
       "|---|---|\n",
       "| Célia | 35    |\n",
       "| José  | 46    |\n",
       "| André | 51    |\n",
       "\n"
      ],
      "text/plain": [
       "  Nome  Idade\n",
       "1 Célia 35   \n",
       "2 José  46   \n",
       "3 André 51   "
      ]
     },
     "metadata": {},
     "output_type": "display_data"
    }
   ],
   "source": [
    "df %>%\n",
    "  arrange(Idade) %>%\n",
    "  tail(cadastro, n = 3)\n"
   ]
  },
  {
   "cell_type": "markdown",
   "metadata": {},
   "source": [
    "### • Exibir as intervalo de linhas"
   ]
  },
  {
   "cell_type": "code",
   "execution_count": 19,
   "metadata": {},
   "outputs": [
    {
     "data": {
      "text/html": [
       "<table>\n",
       "<thead><tr><th scope=col>Nome</th><th scope=col>Idade</th></tr></thead>\n",
       "<tbody>\n",
       "\t<tr><td>Mateus  </td><td>22      </td></tr>\n",
       "\t<tr><td>Gabriel </td><td>24      </td></tr>\n",
       "\t<tr><td>Pedro   </td><td>24      </td></tr>\n",
       "\t<tr><td>Bernardo</td><td>25      </td></tr>\n",
       "</tbody>\n",
       "</table>\n"
      ],
      "text/latex": [
       "\\begin{tabular}{r|ll}\n",
       " Nome & Idade\\\\\n",
       "\\hline\n",
       "\t Mateus   & 22      \\\\\n",
       "\t Gabriel  & 24      \\\\\n",
       "\t Pedro    & 24      \\\\\n",
       "\t Bernardo & 25      \\\\\n",
       "\\end{tabular}\n"
      ],
      "text/markdown": [
       "\n",
       "| Nome | Idade |\n",
       "|---|---|\n",
       "| Mateus   | 22       |\n",
       "| Gabriel  | 24       |\n",
       "| Pedro    | 24       |\n",
       "| Bernardo | 25       |\n",
       "\n"
      ],
      "text/plain": [
       "  Nome     Idade\n",
       "1 Mateus   22   \n",
       "2 Gabriel  24   \n",
       "3 Pedro    24   \n",
       "4 Bernardo 25   "
      ]
     },
     "metadata": {},
     "output_type": "display_data"
    }
   ],
   "source": [
    "df %>%\n",
    "  arrange(Idade,Nome) %>%\n",
    "  slice(4:7, .preserve = TRUE)\n",
    "\n"
   ]
  }
 ],
 "metadata": {
  "kernelspec": {
   "display_name": "R",
   "language": "R",
   "name": "ir"
  },
  "language_info": {
   "codemirror_mode": "r",
   "file_extension": ".r",
   "mimetype": "text/x-r-source",
   "name": "R",
   "pygments_lexer": "r",
   "version": "3.6.1"
  }
 },
 "nbformat": 4,
 "nbformat_minor": 4
}
