{
 "cells": [
  {
   "cell_type": "markdown",
   "metadata": {},
   "source": [
    "# Importando Documentos"
   ]
  },
  {
   "cell_type": "markdown",
   "metadata": {},
   "source": [
    "#### • Arquivo TXT"
   ]
  },
  {
   "cell_type": "code",
   "execution_count": 7,
   "metadata": {},
   "outputs": [
    {
     "data": {
      "text/html": [
       "<table>\n",
       "<thead><tr><th scope=col>V1</th><th scope=col>V2</th><th scope=col>V3</th><th scope=col>V4</th><th scope=col>V5</th><th scope=col>V6</th><th scope=col>V7</th></tr></thead>\n",
       "<tbody>\n",
       "\t<tr><td>Elem.</td><td>Mt   </td><td>Ol   </td><td>Ap   </td><td>Cpx  </td><td>Pig  </td><td>Pl   </td></tr>\n",
       "\t<tr><td>La   </td><td>0.24 </td><td>0.008</td><td>8.2  </td><td>0.11 </td><td>0.024</td><td>0.18 </td></tr>\n",
       "\t<tr><td>Ce   </td><td>0.22 </td><td>0.008</td><td>9.6  </td><td>0.15 </td><td>0.026</td><td>0.14 </td></tr>\n",
       "\t<tr><td>Nd   </td><td>0.23 </td><td>0.008</td><td>10   </td><td>0.3  </td><td>0.039</td><td>0.1  </td></tr>\n",
       "\t<tr><td>Sm   </td><td>0.24 </td><td>0.009</td><td>10.2 </td><td>0.52 </td><td>0.06 </td><td>0.072</td></tr>\n",
       "\t<tr><td>Eu   </td><td>0.22 </td><td>0.009</td><td>6.9  </td><td>0.5  </td><td>0.051</td><td>0.4  </td></tr>\n",
       "\t<tr><td>Tb   </td><td>0.27 </td><td>0.011</td><td>10.9 </td><td>0.67 </td><td>0.13 </td><td>0.058</td></tr>\n",
       "\t<tr><td>Yb   </td><td>0.28 </td><td>0.017</td><td>6.4  </td><td>0.65 </td><td>0.29 </td><td>0.04 </td></tr>\n",
       "\t<tr><td>Lu   </td><td>0.27 </td><td>0.02 </td><td>5    </td><td>0.64 </td><td>0.34 </td><td>0.035</td></tr>\n",
       "\t<tr><td>Y    </td><td>0.4  </td><td>0.01 </td><td>2.7  </td><td>0.4  </td><td>0.2  </td><td>0.02 </td></tr>\n",
       "\t<tr><td>Ta   </td><td>0.3  </td><td>0.04 </td><td>0.04 </td><td>0.07 </td><td>0.03 </td><td>0.04 </td></tr>\n",
       "\t<tr><td>Th   </td><td>0.3  </td><td>0.02 </td><td>5    </td><td>0.02 </td><td>0.03 </td><td>0.02 </td></tr>\n",
       "\t<tr><td>U    </td><td>0.1  </td><td>0.01 </td><td>4    </td><td>0.03 </td><td>0.01 </td><td>0.03 </td></tr>\n",
       "\t<tr><td>Hf   </td><td>0.4  </td><td>0.03 </td><td>0.06 </td><td>0.3  </td><td>0.04 </td><td>0.03 </td></tr>\n",
       "\t<tr><td>Ba   </td><td>0.2  </td><td>0.01 </td><td>0.05 </td><td>0.05 </td><td>0.03 </td><td>0.4  </td></tr>\n",
       "\t<tr><td>Rb   </td><td>0.09 </td><td>0.05 </td><td>0.04 </td><td>0.02 </td><td>0.02 </td><td>0.1  </td></tr>\n",
       "\t<tr><td>Zr   </td><td>0.3  </td><td>0.04 </td><td>0.3  </td><td>0.2  </td><td>0.08 </td><td>0.07 </td></tr>\n",
       "\t<tr><td>Sr   </td><td>0.08 </td><td>0.01 </td><td>0.06 </td><td>0.2  </td><td>0.03 </td><td>2.5  </td></tr>\n",
       "\t<tr><td>Cr   </td><td>69   </td><td>2.4  </td><td>0.04 </td><td>6    </td><td>11   </td><td>0.06 </td></tr>\n",
       "\t<tr><td>Ni   </td><td>15   </td><td>14   </td><td>0.04 </td><td>5    </td><td>8    </td><td>0.06 </td></tr>\n",
       "\t<tr><td>Sc   </td><td>1.5  </td><td>0.3  </td><td>0.05 </td><td>4    </td><td>2    </td><td>0.04 </td></tr>\n",
       "\t<tr><td>Co   </td><td>7    </td><td>4    </td><td>0.05 </td><td>2    </td><td>4    </td><td>0.05 </td></tr>\n",
       "</tbody>\n",
       "</table>\n"
      ],
      "text/latex": [
       "\\begin{tabular}{r|lllllll}\n",
       " V1 & V2 & V3 & V4 & V5 & V6 & V7\\\\\n",
       "\\hline\n",
       "\t Elem. & Mt    & Ol    & Ap    & Cpx   & Pig   & Pl   \\\\\n",
       "\t La    & 0.24  & 0.008 & 8.2   & 0.11  & 0.024 & 0.18 \\\\\n",
       "\t Ce    & 0.22  & 0.008 & 9.6   & 0.15  & 0.026 & 0.14 \\\\\n",
       "\t Nd    & 0.23  & 0.008 & 10    & 0.3   & 0.039 & 0.1  \\\\\n",
       "\t Sm    & 0.24  & 0.009 & 10.2  & 0.52  & 0.06  & 0.072\\\\\n",
       "\t Eu    & 0.22  & 0.009 & 6.9   & 0.5   & 0.051 & 0.4  \\\\\n",
       "\t Tb    & 0.27  & 0.011 & 10.9  & 0.67  & 0.13  & 0.058\\\\\n",
       "\t Yb    & 0.28  & 0.017 & 6.4   & 0.65  & 0.29  & 0.04 \\\\\n",
       "\t Lu    & 0.27  & 0.02  & 5     & 0.64  & 0.34  & 0.035\\\\\n",
       "\t Y     & 0.4   & 0.01  & 2.7   & 0.4   & 0.2   & 0.02 \\\\\n",
       "\t Ta    & 0.3   & 0.04  & 0.04  & 0.07  & 0.03  & 0.04 \\\\\n",
       "\t Th    & 0.3   & 0.02  & 5     & 0.02  & 0.03  & 0.02 \\\\\n",
       "\t U     & 0.1   & 0.01  & 4     & 0.03  & 0.01  & 0.03 \\\\\n",
       "\t Hf    & 0.4   & 0.03  & 0.06  & 0.3   & 0.04  & 0.03 \\\\\n",
       "\t Ba    & 0.2   & 0.01  & 0.05  & 0.05  & 0.03  & 0.4  \\\\\n",
       "\t Rb    & 0.09  & 0.05  & 0.04  & 0.02  & 0.02  & 0.1  \\\\\n",
       "\t Zr    & 0.3   & 0.04  & 0.3   & 0.2   & 0.08  & 0.07 \\\\\n",
       "\t Sr    & 0.08  & 0.01  & 0.06  & 0.2   & 0.03  & 2.5  \\\\\n",
       "\t Cr    & 69    & 2.4   & 0.04  & 6     & 11    & 0.06 \\\\\n",
       "\t Ni    & 15    & 14    & 0.04  & 5     & 8     & 0.06 \\\\\n",
       "\t Sc    & 1.5   & 0.3   & 0.05  & 4     & 2     & 0.04 \\\\\n",
       "\t Co    & 7     & 4     & 0.05  & 2     & 4     & 0.05 \\\\\n",
       "\\end{tabular}\n"
      ],
      "text/markdown": [
       "\n",
       "| V1 | V2 | V3 | V4 | V5 | V6 | V7 |\n",
       "|---|---|---|---|---|---|---|\n",
       "| Elem. | Mt    | Ol    | Ap    | Cpx   | Pig   | Pl    |\n",
       "| La    | 0.24  | 0.008 | 8.2   | 0.11  | 0.024 | 0.18  |\n",
       "| Ce    | 0.22  | 0.008 | 9.6   | 0.15  | 0.026 | 0.14  |\n",
       "| Nd    | 0.23  | 0.008 | 10    | 0.3   | 0.039 | 0.1   |\n",
       "| Sm    | 0.24  | 0.009 | 10.2  | 0.52  | 0.06  | 0.072 |\n",
       "| Eu    | 0.22  | 0.009 | 6.9   | 0.5   | 0.051 | 0.4   |\n",
       "| Tb    | 0.27  | 0.011 | 10.9  | 0.67  | 0.13  | 0.058 |\n",
       "| Yb    | 0.28  | 0.017 | 6.4   | 0.65  | 0.29  | 0.04  |\n",
       "| Lu    | 0.27  | 0.02  | 5     | 0.64  | 0.34  | 0.035 |\n",
       "| Y     | 0.4   | 0.01  | 2.7   | 0.4   | 0.2   | 0.02  |\n",
       "| Ta    | 0.3   | 0.04  | 0.04  | 0.07  | 0.03  | 0.04  |\n",
       "| Th    | 0.3   | 0.02  | 5     | 0.02  | 0.03  | 0.02  |\n",
       "| U     | 0.1   | 0.01  | 4     | 0.03  | 0.01  | 0.03  |\n",
       "| Hf    | 0.4   | 0.03  | 0.06  | 0.3   | 0.04  | 0.03  |\n",
       "| Ba    | 0.2   | 0.01  | 0.05  | 0.05  | 0.03  | 0.4   |\n",
       "| Rb    | 0.09  | 0.05  | 0.04  | 0.02  | 0.02  | 0.1   |\n",
       "| Zr    | 0.3   | 0.04  | 0.3   | 0.2   | 0.08  | 0.07  |\n",
       "| Sr    | 0.08  | 0.01  | 0.06  | 0.2   | 0.03  | 2.5   |\n",
       "| Cr    | 69    | 2.4   | 0.04  | 6     | 11    | 0.06  |\n",
       "| Ni    | 15    | 14    | 0.04  | 5     | 8     | 0.06  |\n",
       "| Sc    | 1.5   | 0.3   | 0.05  | 4     | 2     | 0.04  |\n",
       "| Co    | 7     | 4     | 0.05  | 2     | 4     | 0.05  |\n",
       "\n"
      ],
      "text/plain": [
       "   V1    V2   V3    V4   V5   V6    V7   \n",
       "1  Elem. Mt   Ol    Ap   Cpx  Pig   Pl   \n",
       "2  La    0.24 0.008 8.2  0.11 0.024 0.18 \n",
       "3  Ce    0.22 0.008 9.6  0.15 0.026 0.14 \n",
       "4  Nd    0.23 0.008 10   0.3  0.039 0.1  \n",
       "5  Sm    0.24 0.009 10.2 0.52 0.06  0.072\n",
       "6  Eu    0.22 0.009 6.9  0.5  0.051 0.4  \n",
       "7  Tb    0.27 0.011 10.9 0.67 0.13  0.058\n",
       "8  Yb    0.28 0.017 6.4  0.65 0.29  0.04 \n",
       "9  Lu    0.27 0.02  5    0.64 0.34  0.035\n",
       "10 Y     0.4  0.01  2.7  0.4  0.2   0.02 \n",
       "11 Ta    0.3  0.04  0.04 0.07 0.03  0.04 \n",
       "12 Th    0.3  0.02  5    0.02 0.03  0.02 \n",
       "13 U     0.1  0.01  4    0.03 0.01  0.03 \n",
       "14 Hf    0.4  0.03  0.06 0.3  0.04  0.03 \n",
       "15 Ba    0.2  0.01  0.05 0.05 0.03  0.4  \n",
       "16 Rb    0.09 0.05  0.04 0.02 0.02  0.1  \n",
       "17 Zr    0.3  0.04  0.3  0.2  0.08  0.07 \n",
       "18 Sr    0.08 0.01  0.06 0.2  0.03  2.5  \n",
       "19 Cr    69   2.4   0.04 6    11    0.06 \n",
       "20 Ni    15   14    0.04 5    8     0.06 \n",
       "21 Sc    1.5  0.3   0.05 4    2     0.04 \n",
       "22 Co    7    4     0.05 2    4     0.05 "
      ]
     },
     "metadata": {},
     "output_type": "display_data"
    }
   ],
   "source": [
    "df_texto <- read.table(\"importacao_texto.txt\")\n",
    "df_texto"
   ]
  },
  {
   "cell_type": "markdown",
   "metadata": {},
   "source": [
    "#### • Arquivo CSV"
   ]
  },
  {
   "cell_type": "code",
   "execution_count": 23,
   "metadata": {},
   "outputs": [
    {
     "name": "stderr",
     "output_type": "stream",
     "text": [
      "Warning message in read.table(file = file, header = header, sep = sep, quote = quote, :\n",
      "\"incomplete final line found by readTableHeader on 'importacao.csv'\""
     ]
    },
    {
     "data": {
      "text/html": [
       "<table>\n",
       "<thead><tr><th scope=col>Coluna1</th><th scope=col>Coluna2</th><th scope=col>Coluna.3</th></tr></thead>\n",
       "<tbody>\n",
       "\t<tr><td>A  </td><td>1  </td><td>11A</td></tr>\n",
       "\t<tr><td>B  </td><td>2  </td><td>22B</td></tr>\n",
       "\t<tr><td>C  </td><td>3  </td><td>33C</td></tr>\n",
       "</tbody>\n",
       "</table>\n"
      ],
      "text/latex": [
       "\\begin{tabular}{r|lll}\n",
       " Coluna1 & Coluna2 & Coluna.3\\\\\n",
       "\\hline\n",
       "\t A   & 1   & 11A\\\\\n",
       "\t B   & 2   & 22B\\\\\n",
       "\t C   & 3   & 33C\\\\\n",
       "\\end{tabular}\n"
      ],
      "text/markdown": [
       "\n",
       "| Coluna1 | Coluna2 | Coluna.3 |\n",
       "|---|---|---|\n",
       "| A   | 1   | 11A |\n",
       "| B   | 2   | 22B |\n",
       "| C   | 3   | 33C |\n",
       "\n"
      ],
      "text/plain": [
       "  Coluna1 Coluna2 Coluna.3\n",
       "1 A       1       11A     \n",
       "2 B       2       22B     \n",
       "3 C       3       33C     "
      ]
     },
     "metadata": {},
     "output_type": "display_data"
    }
   ],
   "source": [
    "df_csv <- read.csv(file =\"importacao.csv\", sep=\",\", header=T)\n",
    "df_csv\n",
    "\n",
    "\n",
    "#ALGUNS ARGUMENTOS CSV\n",
    "# encoding = \"latin-1\" ou encoding = \"UTF-8\"\n",
    "# sep=\";\" ou sep=\"|\"\n",
    "#header=FALSE"
   ]
  },
  {
   "cell_type": "markdown",
   "metadata": {},
   "source": [
    "#### • Arquivo Excel"
   ]
  },
  {
   "cell_type": "code",
   "execution_count": 22,
   "metadata": {},
   "outputs": [
    {
     "data": {
      "text/html": [
       "<table>\n",
       "<thead><tr><th scope=col>Coluna 1</th><th scope=col>Coluna 2</th></tr></thead>\n",
       "<tbody>\n",
       "\t<tr><td>A </td><td>10</td></tr>\n",
       "\t<tr><td>B </td><td>12</td></tr>\n",
       "\t<tr><td>C </td><td>15</td></tr>\n",
       "\t<tr><td>D </td><td>22</td></tr>\n",
       "</tbody>\n",
       "</table>\n"
      ],
      "text/latex": [
       "\\begin{tabular}{r|ll}\n",
       " Coluna 1 & Coluna 2\\\\\n",
       "\\hline\n",
       "\t A  & 10\\\\\n",
       "\t B  & 12\\\\\n",
       "\t C  & 15\\\\\n",
       "\t D  & 22\\\\\n",
       "\\end{tabular}\n"
      ],
      "text/markdown": [
       "\n",
       "| Coluna 1 | Coluna 2 |\n",
       "|---|---|\n",
       "| A  | 10 |\n",
       "| B  | 12 |\n",
       "| C  | 15 |\n",
       "| D  | 22 |\n",
       "\n"
      ],
      "text/plain": [
       "  Coluna 1 Coluna 2\n",
       "1 A        10      \n",
       "2 B        12      \n",
       "3 C        15      \n",
       "4 D        22      "
      ]
     },
     "metadata": {},
     "output_type": "display_data"
    }
   ],
   "source": [
    "#Necessário instalar o pacote: readxl  \n",
    "#install.packages(\"readxl\")\n",
    "\n",
    "library(readxl)\n",
    "\n",
    "df_excel <- read_xlsx(\"importacao_excel.xlsx\")\n",
    "df_excel"
   ]
  }
 ],
 "metadata": {
  "kernelspec": {
   "display_name": "R",
   "language": "R",
   "name": "ir"
  },
  "language_info": {
   "codemirror_mode": "r",
   "file_extension": ".r",
   "mimetype": "text/x-r-source",
   "name": "R",
   "pygments_lexer": "r",
   "version": "3.6.1"
  }
 },
 "nbformat": 4,
 "nbformat_minor": 4
}
