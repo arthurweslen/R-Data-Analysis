{
 "cells": [
  {
   "cell_type": "markdown",
   "metadata": {},
   "source": [
    "# Criar e excluir colunas\n",
    "<br>\n",
    "<i>\n",
    "• Importar arquivo xlsx <br>\n",
    "• Criar coluna com Soma <br>\n",
    "• Criar coluna com Multiplicação<br>\n",
    "• Criar coluna com texto<br>\n",
    "• Excluir coluna (número da coluna)<br>\n",
    "• Excluir coluna (vários números)<br> \n",
    "• Excluir coluna pelo nome da coluna <br>\n",
    "• Excluir linha por número do índice <br>\n",
    "• Excluir linha pelo nome de algum valor de alguma coluna<br>\n",
    "    "
   ]
  },
  {
   "cell_type": "markdown",
   "metadata": {},
   "source": [
    "<b>Informações necessárias </b>\n",
    "<b><i>  É necessário instalar esses pacotes</i> </b><br>\n",
    "\n",
    "<i>#if(!require(dplyr)) install.packages(\"dplyr\") </i> <br>\n",
    "<i> #if(!require(readxl)) install.packages(\"readxl\")</i> <br>"
   ]
  },
  {
   "cell_type": "markdown",
   "metadata": {},
   "source": [
    "### • Importar o Arquivo"
   ]
  },
  {
   "cell_type": "code",
   "execution_count": 16,
   "metadata": {},
   "outputs": [
    {
     "data": {
      "text/html": [
       "<table>\n",
       "<thead><tr><th scope=col>Numeros Pares</th><th scope=col>Numeros Ímpares</th><th scope=col>Tipo</th></tr></thead>\n",
       "<tbody>\n",
       "\t<tr><td>  2</td><td>  3</td><td>a  </td></tr>\n",
       "\t<tr><td>  4</td><td>  5</td><td>b  </td></tr>\n",
       "\t<tr><td>  6</td><td>  7</td><td>c  </td></tr>\n",
       "\t<tr><td>  8</td><td>  9</td><td>a  </td></tr>\n",
       "\t<tr><td> 10</td><td> 11</td><td>b  </td></tr>\n",
       "\t<tr><td> 20</td><td> 25</td><td>c  </td></tr>\n",
       "\t<tr><td> 30</td><td> 35</td><td>a  </td></tr>\n",
       "\t<tr><td> 40</td><td> 45</td><td>b  </td></tr>\n",
       "\t<tr><td> 50</td><td> 55</td><td>c  </td></tr>\n",
       "\t<tr><td> 60</td><td> 65</td><td>a  </td></tr>\n",
       "\t<tr><td> 70</td><td> 75</td><td>b  </td></tr>\n",
       "\t<tr><td> 80</td><td> 85</td><td>c  </td></tr>\n",
       "\t<tr><td> 90</td><td> 95</td><td>a  </td></tr>\n",
       "\t<tr><td>100</td><td>105</td><td>b  </td></tr>\n",
       "</tbody>\n",
       "</table>\n"
      ],
      "text/latex": [
       "\\begin{tabular}{r|lll}\n",
       " Numeros Pares & Numeros Ímpares & Tipo\\\\\n",
       "\\hline\n",
       "\t   2 &   3 & a  \\\\\n",
       "\t   4 &   5 & b  \\\\\n",
       "\t   6 &   7 & c  \\\\\n",
       "\t   8 &   9 & a  \\\\\n",
       "\t  10 &  11 & b  \\\\\n",
       "\t  20 &  25 & c  \\\\\n",
       "\t  30 &  35 & a  \\\\\n",
       "\t  40 &  45 & b  \\\\\n",
       "\t  50 &  55 & c  \\\\\n",
       "\t  60 &  65 & a  \\\\\n",
       "\t  70 &  75 & b  \\\\\n",
       "\t  80 &  85 & c  \\\\\n",
       "\t  90 &  95 & a  \\\\\n",
       "\t 100 & 105 & b  \\\\\n",
       "\\end{tabular}\n"
      ],
      "text/markdown": [
       "\n",
       "| Numeros Pares | Numeros Ímpares | Tipo |\n",
       "|---|---|---|\n",
       "|   2 |   3 | a   |\n",
       "|   4 |   5 | b   |\n",
       "|   6 |   7 | c   |\n",
       "|   8 |   9 | a   |\n",
       "|  10 |  11 | b   |\n",
       "|  20 |  25 | c   |\n",
       "|  30 |  35 | a   |\n",
       "|  40 |  45 | b   |\n",
       "|  50 |  55 | c   |\n",
       "|  60 |  65 | a   |\n",
       "|  70 |  75 | b   |\n",
       "|  80 |  85 | c   |\n",
       "|  90 |  95 | a   |\n",
       "| 100 | 105 | b   |\n",
       "\n"
      ],
      "text/plain": [
       "   Numeros Pares Numeros Ímpares Tipo\n",
       "1    2             3             a   \n",
       "2    4             5             b   \n",
       "3    6             7             c   \n",
       "4    8             9             a   \n",
       "5   10            11             b   \n",
       "6   20            25             c   \n",
       "7   30            35             a   \n",
       "8   40            45             b   \n",
       "9   50            55             c   \n",
       "10  60            65             a   \n",
       "11  70            75             b   \n",
       "12  80            85             c   \n",
       "13  90            95             a   \n",
       "14 100           105             b   "
      ]
     },
     "metadata": {},
     "output_type": "display_data"
    }
   ],
   "source": [
    "setwd(\"f:/Documentos/R/UDEMY\")\n",
    "df <- read_xlsx(\"Numeros.xlsx\")\n",
    "df"
   ]
  },
  {
   "cell_type": "markdown",
   "metadata": {},
   "source": [
    "### • Criar Colunas"
   ]
  },
  {
   "cell_type": "code",
   "execution_count": 17,
   "metadata": {},
   "outputs": [
    {
     "data": {
      "text/html": [
       "<table>\n",
       "<thead><tr><th scope=col>Numeros Pares</th><th scope=col>Numeros Ímpares</th><th scope=col>Tipo</th><th scope=col>Soma</th><th scope=col>Multiplicação</th><th scope=col>Texto</th><th scope=col>Texto1</th><th scope=col>Texto2</th><th scope=col>Texto3</th><th scope=col>Texto5</th><th scope=col>Texto6</th></tr></thead>\n",
       "<tbody>\n",
       "\t<tr><td>  2   </td><td>  3   </td><td>a     </td><td>  5   </td><td>    6 </td><td>Texto </td><td>Texto1</td><td>Texto2</td><td>Texto4</td><td>Texto5</td><td>Texto6</td></tr>\n",
       "\t<tr><td>  4   </td><td>  5   </td><td>b     </td><td>  9   </td><td>   20 </td><td>Texto </td><td>Texto1</td><td>Texto2</td><td>Texto4</td><td>Texto5</td><td>Texto6</td></tr>\n",
       "\t<tr><td>  6   </td><td>  7   </td><td>c     </td><td> 13   </td><td>   42 </td><td>Texto </td><td>Texto1</td><td>Texto2</td><td>Texto4</td><td>Texto5</td><td>Texto6</td></tr>\n",
       "\t<tr><td>  8   </td><td>  9   </td><td>a     </td><td> 17   </td><td>   72 </td><td>Texto </td><td>Texto1</td><td>Texto2</td><td>Texto4</td><td>Texto5</td><td>Texto6</td></tr>\n",
       "\t<tr><td> 10   </td><td> 11   </td><td>b     </td><td> 21   </td><td>  110 </td><td>Texto </td><td>Texto1</td><td>Texto2</td><td>Texto4</td><td>Texto5</td><td>Texto6</td></tr>\n",
       "\t<tr><td> 20   </td><td> 25   </td><td>c     </td><td> 45   </td><td>  500 </td><td>Texto </td><td>Texto1</td><td>Texto2</td><td>Texto4</td><td>Texto5</td><td>Texto6</td></tr>\n",
       "\t<tr><td> 30   </td><td> 35   </td><td>a     </td><td> 65   </td><td> 1050 </td><td>Texto </td><td>Texto1</td><td>Texto2</td><td>Texto4</td><td>Texto5</td><td>Texto6</td></tr>\n",
       "\t<tr><td> 40   </td><td> 45   </td><td>b     </td><td> 85   </td><td> 1800 </td><td>Texto </td><td>Texto1</td><td>Texto2</td><td>Texto4</td><td>Texto5</td><td>Texto6</td></tr>\n",
       "\t<tr><td> 50   </td><td> 55   </td><td>c     </td><td>105   </td><td> 2750 </td><td>Texto </td><td>Texto1</td><td>Texto2</td><td>Texto4</td><td>Texto5</td><td>Texto6</td></tr>\n",
       "\t<tr><td> 60   </td><td> 65   </td><td>a     </td><td>125   </td><td> 3900 </td><td>Texto </td><td>Texto1</td><td>Texto2</td><td>Texto4</td><td>Texto5</td><td>Texto6</td></tr>\n",
       "\t<tr><td> 70   </td><td> 75   </td><td>b     </td><td>145   </td><td> 5250 </td><td>Texto </td><td>Texto1</td><td>Texto2</td><td>Texto4</td><td>Texto5</td><td>Texto6</td></tr>\n",
       "\t<tr><td> 80   </td><td> 85   </td><td>c     </td><td>165   </td><td> 6800 </td><td>Texto </td><td>Texto1</td><td>Texto2</td><td>Texto4</td><td>Texto5</td><td>Texto6</td></tr>\n",
       "\t<tr><td> 90   </td><td> 95   </td><td>a     </td><td>185   </td><td> 8550 </td><td>Texto </td><td>Texto1</td><td>Texto2</td><td>Texto4</td><td>Texto5</td><td>Texto6</td></tr>\n",
       "\t<tr><td>100   </td><td>105   </td><td>b     </td><td>205   </td><td>10500 </td><td>Texto </td><td>Texto1</td><td>Texto2</td><td>Texto4</td><td>Texto5</td><td>Texto6</td></tr>\n",
       "</tbody>\n",
       "</table>\n"
      ],
      "text/latex": [
       "\\begin{tabular}{r|lllllllllll}\n",
       " Numeros Pares & Numeros Ímpares & Tipo & Soma & Multiplicação & Texto & Texto1 & Texto2 & Texto3 & Texto5 & Texto6\\\\\n",
       "\\hline\n",
       "\t   2    &   3    & a      &   5    &     6  & Texto  & Texto1 & Texto2 & Texto4 & Texto5 & Texto6\\\\\n",
       "\t   4    &   5    & b      &   9    &    20  & Texto  & Texto1 & Texto2 & Texto4 & Texto5 & Texto6\\\\\n",
       "\t   6    &   7    & c      &  13    &    42  & Texto  & Texto1 & Texto2 & Texto4 & Texto5 & Texto6\\\\\n",
       "\t   8    &   9    & a      &  17    &    72  & Texto  & Texto1 & Texto2 & Texto4 & Texto5 & Texto6\\\\\n",
       "\t  10    &  11    & b      &  21    &   110  & Texto  & Texto1 & Texto2 & Texto4 & Texto5 & Texto6\\\\\n",
       "\t  20    &  25    & c      &  45    &   500  & Texto  & Texto1 & Texto2 & Texto4 & Texto5 & Texto6\\\\\n",
       "\t  30    &  35    & a      &  65    &  1050  & Texto  & Texto1 & Texto2 & Texto4 & Texto5 & Texto6\\\\\n",
       "\t  40    &  45    & b      &  85    &  1800  & Texto  & Texto1 & Texto2 & Texto4 & Texto5 & Texto6\\\\\n",
       "\t  50    &  55    & c      & 105    &  2750  & Texto  & Texto1 & Texto2 & Texto4 & Texto5 & Texto6\\\\\n",
       "\t  60    &  65    & a      & 125    &  3900  & Texto  & Texto1 & Texto2 & Texto4 & Texto5 & Texto6\\\\\n",
       "\t  70    &  75    & b      & 145    &  5250  & Texto  & Texto1 & Texto2 & Texto4 & Texto5 & Texto6\\\\\n",
       "\t  80    &  85    & c      & 165    &  6800  & Texto  & Texto1 & Texto2 & Texto4 & Texto5 & Texto6\\\\\n",
       "\t  90    &  95    & a      & 185    &  8550  & Texto  & Texto1 & Texto2 & Texto4 & Texto5 & Texto6\\\\\n",
       "\t 100    & 105    & b      & 205    & 10500  & Texto  & Texto1 & Texto2 & Texto4 & Texto5 & Texto6\\\\\n",
       "\\end{tabular}\n"
      ],
      "text/markdown": [
       "\n",
       "| Numeros Pares | Numeros Ímpares | Tipo | Soma | Multiplicação | Texto | Texto1 | Texto2 | Texto3 | Texto5 | Texto6 |\n",
       "|---|---|---|---|---|---|---|---|---|---|---|\n",
       "|   2    |   3    | a      |   5    |     6  | Texto  | Texto1 | Texto2 | Texto4 | Texto5 | Texto6 |\n",
       "|   4    |   5    | b      |   9    |    20  | Texto  | Texto1 | Texto2 | Texto4 | Texto5 | Texto6 |\n",
       "|   6    |   7    | c      |  13    |    42  | Texto  | Texto1 | Texto2 | Texto4 | Texto5 | Texto6 |\n",
       "|   8    |   9    | a      |  17    |    72  | Texto  | Texto1 | Texto2 | Texto4 | Texto5 | Texto6 |\n",
       "|  10    |  11    | b      |  21    |   110  | Texto  | Texto1 | Texto2 | Texto4 | Texto5 | Texto6 |\n",
       "|  20    |  25    | c      |  45    |   500  | Texto  | Texto1 | Texto2 | Texto4 | Texto5 | Texto6 |\n",
       "|  30    |  35    | a      |  65    |  1050  | Texto  | Texto1 | Texto2 | Texto4 | Texto5 | Texto6 |\n",
       "|  40    |  45    | b      |  85    |  1800  | Texto  | Texto1 | Texto2 | Texto4 | Texto5 | Texto6 |\n",
       "|  50    |  55    | c      | 105    |  2750  | Texto  | Texto1 | Texto2 | Texto4 | Texto5 | Texto6 |\n",
       "|  60    |  65    | a      | 125    |  3900  | Texto  | Texto1 | Texto2 | Texto4 | Texto5 | Texto6 |\n",
       "|  70    |  75    | b      | 145    |  5250  | Texto  | Texto1 | Texto2 | Texto4 | Texto5 | Texto6 |\n",
       "|  80    |  85    | c      | 165    |  6800  | Texto  | Texto1 | Texto2 | Texto4 | Texto5 | Texto6 |\n",
       "|  90    |  95    | a      | 185    |  8550  | Texto  | Texto1 | Texto2 | Texto4 | Texto5 | Texto6 |\n",
       "| 100    | 105    | b      | 205    | 10500  | Texto  | Texto1 | Texto2 | Texto4 | Texto5 | Texto6 |\n",
       "\n"
      ],
      "text/plain": [
       "   Numeros Pares Numeros Ímpares Tipo Soma Multiplicação Texto Texto1 Texto2\n",
       "1    2             3             a      5      6         Texto Texto1 Texto2\n",
       "2    4             5             b      9     20         Texto Texto1 Texto2\n",
       "3    6             7             c     13     42         Texto Texto1 Texto2\n",
       "4    8             9             a     17     72         Texto Texto1 Texto2\n",
       "5   10            11             b     21    110         Texto Texto1 Texto2\n",
       "6   20            25             c     45    500         Texto Texto1 Texto2\n",
       "7   30            35             a     65   1050         Texto Texto1 Texto2\n",
       "8   40            45             b     85   1800         Texto Texto1 Texto2\n",
       "9   50            55             c    105   2750         Texto Texto1 Texto2\n",
       "10  60            65             a    125   3900         Texto Texto1 Texto2\n",
       "11  70            75             b    145   5250         Texto Texto1 Texto2\n",
       "12  80            85             c    165   6800         Texto Texto1 Texto2\n",
       "13  90            95             a    185   8550         Texto Texto1 Texto2\n",
       "14 100           105             b    205  10500         Texto Texto1 Texto2\n",
       "   Texto3 Texto5 Texto6\n",
       "1  Texto4 Texto5 Texto6\n",
       "2  Texto4 Texto5 Texto6\n",
       "3  Texto4 Texto5 Texto6\n",
       "4  Texto4 Texto5 Texto6\n",
       "5  Texto4 Texto5 Texto6\n",
       "6  Texto4 Texto5 Texto6\n",
       "7  Texto4 Texto5 Texto6\n",
       "8  Texto4 Texto5 Texto6\n",
       "9  Texto4 Texto5 Texto6\n",
       "10 Texto4 Texto5 Texto6\n",
       "11 Texto4 Texto5 Texto6\n",
       "12 Texto4 Texto5 Texto6\n",
       "13 Texto4 Texto5 Texto6\n",
       "14 Texto4 Texto5 Texto6"
      ]
     },
     "metadata": {},
     "output_type": "display_data"
    }
   ],
   "source": [
    "# Coluna Soma\n",
    "df[\"Soma\"] = df$`Numeros Pares` + df$`Numeros Ímpares`\n",
    "\n",
    "# Coluna Multiplicação\n",
    "df[\"Multiplicação\"] = df$`Numeros Pares` * df$`Numeros Ímpares`\n",
    "\n",
    "# Coluna Texto\n",
    "df[\"Texto\"] = \"Texto\"\n",
    "df[\"Texto1\"] = \"Texto1\"\n",
    "df[\"Texto2\"] = \"Texto2\"\n",
    "df[\"Texto3\"] = \"Texto4\"\n",
    "df[\"Texto5\"] = \"Texto5\"\n",
    "df[\"Texto6\"] = \"Texto6\"\n",
    "\n",
    "df"
   ]
  },
  {
   "cell_type": "markdown",
   "metadata": {},
   "source": [
    "### • Exluir Colunas"
   ]
  },
  {
   "cell_type": "code",
   "execution_count": 18,
   "metadata": {},
   "outputs": [
    {
     "data": {
      "text/html": [
       "<table>\n",
       "<thead><tr><th scope=col>Numeros Pares</th><th scope=col>Numeros Ímpares</th><th scope=col>Tipo</th><th scope=col>Soma</th><th scope=col>Multiplicação</th><th scope=col>Texto</th><th scope=col>Texto1</th><th scope=col>Texto2</th><th scope=col>Texto3</th><th scope=col>Texto6</th></tr></thead>\n",
       "<tbody>\n",
       "\t<tr><td>  2   </td><td>  3   </td><td>a     </td><td>  5   </td><td>    6 </td><td>Texto </td><td>Texto1</td><td>Texto2</td><td>Texto4</td><td>Texto6</td></tr>\n",
       "\t<tr><td>  4   </td><td>  5   </td><td>b     </td><td>  9   </td><td>   20 </td><td>Texto </td><td>Texto1</td><td>Texto2</td><td>Texto4</td><td>Texto6</td></tr>\n",
       "\t<tr><td>  6   </td><td>  7   </td><td>c     </td><td> 13   </td><td>   42 </td><td>Texto </td><td>Texto1</td><td>Texto2</td><td>Texto4</td><td>Texto6</td></tr>\n",
       "\t<tr><td>  8   </td><td>  9   </td><td>a     </td><td> 17   </td><td>   72 </td><td>Texto </td><td>Texto1</td><td>Texto2</td><td>Texto4</td><td>Texto6</td></tr>\n",
       "\t<tr><td> 10   </td><td> 11   </td><td>b     </td><td> 21   </td><td>  110 </td><td>Texto </td><td>Texto1</td><td>Texto2</td><td>Texto4</td><td>Texto6</td></tr>\n",
       "\t<tr><td> 20   </td><td> 25   </td><td>c     </td><td> 45   </td><td>  500 </td><td>Texto </td><td>Texto1</td><td>Texto2</td><td>Texto4</td><td>Texto6</td></tr>\n",
       "\t<tr><td> 30   </td><td> 35   </td><td>a     </td><td> 65   </td><td> 1050 </td><td>Texto </td><td>Texto1</td><td>Texto2</td><td>Texto4</td><td>Texto6</td></tr>\n",
       "\t<tr><td> 40   </td><td> 45   </td><td>b     </td><td> 85   </td><td> 1800 </td><td>Texto </td><td>Texto1</td><td>Texto2</td><td>Texto4</td><td>Texto6</td></tr>\n",
       "\t<tr><td> 50   </td><td> 55   </td><td>c     </td><td>105   </td><td> 2750 </td><td>Texto </td><td>Texto1</td><td>Texto2</td><td>Texto4</td><td>Texto6</td></tr>\n",
       "\t<tr><td> 60   </td><td> 65   </td><td>a     </td><td>125   </td><td> 3900 </td><td>Texto </td><td>Texto1</td><td>Texto2</td><td>Texto4</td><td>Texto6</td></tr>\n",
       "\t<tr><td> 70   </td><td> 75   </td><td>b     </td><td>145   </td><td> 5250 </td><td>Texto </td><td>Texto1</td><td>Texto2</td><td>Texto4</td><td>Texto6</td></tr>\n",
       "\t<tr><td> 80   </td><td> 85   </td><td>c     </td><td>165   </td><td> 6800 </td><td>Texto </td><td>Texto1</td><td>Texto2</td><td>Texto4</td><td>Texto6</td></tr>\n",
       "\t<tr><td> 90   </td><td> 95   </td><td>a     </td><td>185   </td><td> 8550 </td><td>Texto </td><td>Texto1</td><td>Texto2</td><td>Texto4</td><td>Texto6</td></tr>\n",
       "\t<tr><td>100   </td><td>105   </td><td>b     </td><td>205   </td><td>10500 </td><td>Texto </td><td>Texto1</td><td>Texto2</td><td>Texto4</td><td>Texto6</td></tr>\n",
       "</tbody>\n",
       "</table>\n"
      ],
      "text/latex": [
       "\\begin{tabular}{r|llllllllll}\n",
       " Numeros Pares & Numeros Ímpares & Tipo & Soma & Multiplicação & Texto & Texto1 & Texto2 & Texto3 & Texto6\\\\\n",
       "\\hline\n",
       "\t   2    &   3    & a      &   5    &     6  & Texto  & Texto1 & Texto2 & Texto4 & Texto6\\\\\n",
       "\t   4    &   5    & b      &   9    &    20  & Texto  & Texto1 & Texto2 & Texto4 & Texto6\\\\\n",
       "\t   6    &   7    & c      &  13    &    42  & Texto  & Texto1 & Texto2 & Texto4 & Texto6\\\\\n",
       "\t   8    &   9    & a      &  17    &    72  & Texto  & Texto1 & Texto2 & Texto4 & Texto6\\\\\n",
       "\t  10    &  11    & b      &  21    &   110  & Texto  & Texto1 & Texto2 & Texto4 & Texto6\\\\\n",
       "\t  20    &  25    & c      &  45    &   500  & Texto  & Texto1 & Texto2 & Texto4 & Texto6\\\\\n",
       "\t  30    &  35    & a      &  65    &  1050  & Texto  & Texto1 & Texto2 & Texto4 & Texto6\\\\\n",
       "\t  40    &  45    & b      &  85    &  1800  & Texto  & Texto1 & Texto2 & Texto4 & Texto6\\\\\n",
       "\t  50    &  55    & c      & 105    &  2750  & Texto  & Texto1 & Texto2 & Texto4 & Texto6\\\\\n",
       "\t  60    &  65    & a      & 125    &  3900  & Texto  & Texto1 & Texto2 & Texto4 & Texto6\\\\\n",
       "\t  70    &  75    & b      & 145    &  5250  & Texto  & Texto1 & Texto2 & Texto4 & Texto6\\\\\n",
       "\t  80    &  85    & c      & 165    &  6800  & Texto  & Texto1 & Texto2 & Texto4 & Texto6\\\\\n",
       "\t  90    &  95    & a      & 185    &  8550  & Texto  & Texto1 & Texto2 & Texto4 & Texto6\\\\\n",
       "\t 100    & 105    & b      & 205    & 10500  & Texto  & Texto1 & Texto2 & Texto4 & Texto6\\\\\n",
       "\\end{tabular}\n"
      ],
      "text/markdown": [
       "\n",
       "| Numeros Pares | Numeros Ímpares | Tipo | Soma | Multiplicação | Texto | Texto1 | Texto2 | Texto3 | Texto6 |\n",
       "|---|---|---|---|---|---|---|---|---|---|\n",
       "|   2    |   3    | a      |   5    |     6  | Texto  | Texto1 | Texto2 | Texto4 | Texto6 |\n",
       "|   4    |   5    | b      |   9    |    20  | Texto  | Texto1 | Texto2 | Texto4 | Texto6 |\n",
       "|   6    |   7    | c      |  13    |    42  | Texto  | Texto1 | Texto2 | Texto4 | Texto6 |\n",
       "|   8    |   9    | a      |  17    |    72  | Texto  | Texto1 | Texto2 | Texto4 | Texto6 |\n",
       "|  10    |  11    | b      |  21    |   110  | Texto  | Texto1 | Texto2 | Texto4 | Texto6 |\n",
       "|  20    |  25    | c      |  45    |   500  | Texto  | Texto1 | Texto2 | Texto4 | Texto6 |\n",
       "|  30    |  35    | a      |  65    |  1050  | Texto  | Texto1 | Texto2 | Texto4 | Texto6 |\n",
       "|  40    |  45    | b      |  85    |  1800  | Texto  | Texto1 | Texto2 | Texto4 | Texto6 |\n",
       "|  50    |  55    | c      | 105    |  2750  | Texto  | Texto1 | Texto2 | Texto4 | Texto6 |\n",
       "|  60    |  65    | a      | 125    |  3900  | Texto  | Texto1 | Texto2 | Texto4 | Texto6 |\n",
       "|  70    |  75    | b      | 145    |  5250  | Texto  | Texto1 | Texto2 | Texto4 | Texto6 |\n",
       "|  80    |  85    | c      | 165    |  6800  | Texto  | Texto1 | Texto2 | Texto4 | Texto6 |\n",
       "|  90    |  95    | a      | 185    |  8550  | Texto  | Texto1 | Texto2 | Texto4 | Texto6 |\n",
       "| 100    | 105    | b      | 205    | 10500  | Texto  | Texto1 | Texto2 | Texto4 | Texto6 |\n",
       "\n"
      ],
      "text/plain": [
       "   Numeros Pares Numeros Ímpares Tipo Soma Multiplicação Texto Texto1 Texto2\n",
       "1    2             3             a      5      6         Texto Texto1 Texto2\n",
       "2    4             5             b      9     20         Texto Texto1 Texto2\n",
       "3    6             7             c     13     42         Texto Texto1 Texto2\n",
       "4    8             9             a     17     72         Texto Texto1 Texto2\n",
       "5   10            11             b     21    110         Texto Texto1 Texto2\n",
       "6   20            25             c     45    500         Texto Texto1 Texto2\n",
       "7   30            35             a     65   1050         Texto Texto1 Texto2\n",
       "8   40            45             b     85   1800         Texto Texto1 Texto2\n",
       "9   50            55             c    105   2750         Texto Texto1 Texto2\n",
       "10  60            65             a    125   3900         Texto Texto1 Texto2\n",
       "11  70            75             b    145   5250         Texto Texto1 Texto2\n",
       "12  80            85             c    165   6800         Texto Texto1 Texto2\n",
       "13  90            95             a    185   8550         Texto Texto1 Texto2\n",
       "14 100           105             b    205  10500         Texto Texto1 Texto2\n",
       "   Texto3 Texto6\n",
       "1  Texto4 Texto6\n",
       "2  Texto4 Texto6\n",
       "3  Texto4 Texto6\n",
       "4  Texto4 Texto6\n",
       "5  Texto4 Texto6\n",
       "6  Texto4 Texto6\n",
       "7  Texto4 Texto6\n",
       "8  Texto4 Texto6\n",
       "9  Texto4 Texto6\n",
       "10 Texto4 Texto6\n",
       "11 Texto4 Texto6\n",
       "12 Texto4 Texto6\n",
       "13 Texto4 Texto6\n",
       "14 Texto4 Texto6"
      ]
     },
     "metadata": {},
     "output_type": "display_data"
    }
   ],
   "source": [
    "# Excluir uma Coluna pelo número \n",
    "df <- select(df,-c(10))\n",
    "df\n",
    "\n",
    "\n",
    "#OBS: removido a coluna 10, (Texto5)"
   ]
  },
  {
   "cell_type": "code",
   "execution_count": 19,
   "metadata": {},
   "outputs": [
    {
     "data": {
      "text/html": [
       "<table>\n",
       "<thead><tr><th scope=col>Numeros Pares</th><th scope=col>Numeros Ímpares</th><th scope=col>Tipo</th><th scope=col>Soma</th><th scope=col>Multiplicação</th><th scope=col>Texto</th><th scope=col>Texto1</th><th scope=col>Texto2</th></tr></thead>\n",
       "<tbody>\n",
       "\t<tr><td>  2   </td><td>  3   </td><td>a     </td><td>  5   </td><td>    6 </td><td>Texto </td><td>Texto1</td><td>Texto2</td></tr>\n",
       "\t<tr><td>  4   </td><td>  5   </td><td>b     </td><td>  9   </td><td>   20 </td><td>Texto </td><td>Texto1</td><td>Texto2</td></tr>\n",
       "\t<tr><td>  6   </td><td>  7   </td><td>c     </td><td> 13   </td><td>   42 </td><td>Texto </td><td>Texto1</td><td>Texto2</td></tr>\n",
       "\t<tr><td>  8   </td><td>  9   </td><td>a     </td><td> 17   </td><td>   72 </td><td>Texto </td><td>Texto1</td><td>Texto2</td></tr>\n",
       "\t<tr><td> 10   </td><td> 11   </td><td>b     </td><td> 21   </td><td>  110 </td><td>Texto </td><td>Texto1</td><td>Texto2</td></tr>\n",
       "\t<tr><td> 20   </td><td> 25   </td><td>c     </td><td> 45   </td><td>  500 </td><td>Texto </td><td>Texto1</td><td>Texto2</td></tr>\n",
       "\t<tr><td> 30   </td><td> 35   </td><td>a     </td><td> 65   </td><td> 1050 </td><td>Texto </td><td>Texto1</td><td>Texto2</td></tr>\n",
       "\t<tr><td> 40   </td><td> 45   </td><td>b     </td><td> 85   </td><td> 1800 </td><td>Texto </td><td>Texto1</td><td>Texto2</td></tr>\n",
       "\t<tr><td> 50   </td><td> 55   </td><td>c     </td><td>105   </td><td> 2750 </td><td>Texto </td><td>Texto1</td><td>Texto2</td></tr>\n",
       "\t<tr><td> 60   </td><td> 65   </td><td>a     </td><td>125   </td><td> 3900 </td><td>Texto </td><td>Texto1</td><td>Texto2</td></tr>\n",
       "\t<tr><td> 70   </td><td> 75   </td><td>b     </td><td>145   </td><td> 5250 </td><td>Texto </td><td>Texto1</td><td>Texto2</td></tr>\n",
       "\t<tr><td> 80   </td><td> 85   </td><td>c     </td><td>165   </td><td> 6800 </td><td>Texto </td><td>Texto1</td><td>Texto2</td></tr>\n",
       "\t<tr><td> 90   </td><td> 95   </td><td>a     </td><td>185   </td><td> 8550 </td><td>Texto </td><td>Texto1</td><td>Texto2</td></tr>\n",
       "\t<tr><td>100   </td><td>105   </td><td>b     </td><td>205   </td><td>10500 </td><td>Texto </td><td>Texto1</td><td>Texto2</td></tr>\n",
       "</tbody>\n",
       "</table>\n"
      ],
      "text/latex": [
       "\\begin{tabular}{r|llllllll}\n",
       " Numeros Pares & Numeros Ímpares & Tipo & Soma & Multiplicação & Texto & Texto1 & Texto2\\\\\n",
       "\\hline\n",
       "\t   2    &   3    & a      &   5    &     6  & Texto  & Texto1 & Texto2\\\\\n",
       "\t   4    &   5    & b      &   9    &    20  & Texto  & Texto1 & Texto2\\\\\n",
       "\t   6    &   7    & c      &  13    &    42  & Texto  & Texto1 & Texto2\\\\\n",
       "\t   8    &   9    & a      &  17    &    72  & Texto  & Texto1 & Texto2\\\\\n",
       "\t  10    &  11    & b      &  21    &   110  & Texto  & Texto1 & Texto2\\\\\n",
       "\t  20    &  25    & c      &  45    &   500  & Texto  & Texto1 & Texto2\\\\\n",
       "\t  30    &  35    & a      &  65    &  1050  & Texto  & Texto1 & Texto2\\\\\n",
       "\t  40    &  45    & b      &  85    &  1800  & Texto  & Texto1 & Texto2\\\\\n",
       "\t  50    &  55    & c      & 105    &  2750  & Texto  & Texto1 & Texto2\\\\\n",
       "\t  60    &  65    & a      & 125    &  3900  & Texto  & Texto1 & Texto2\\\\\n",
       "\t  70    &  75    & b      & 145    &  5250  & Texto  & Texto1 & Texto2\\\\\n",
       "\t  80    &  85    & c      & 165    &  6800  & Texto  & Texto1 & Texto2\\\\\n",
       "\t  90    &  95    & a      & 185    &  8550  & Texto  & Texto1 & Texto2\\\\\n",
       "\t 100    & 105    & b      & 205    & 10500  & Texto  & Texto1 & Texto2\\\\\n",
       "\\end{tabular}\n"
      ],
      "text/markdown": [
       "\n",
       "| Numeros Pares | Numeros Ímpares | Tipo | Soma | Multiplicação | Texto | Texto1 | Texto2 |\n",
       "|---|---|---|---|---|---|---|---|\n",
       "|   2    |   3    | a      |   5    |     6  | Texto  | Texto1 | Texto2 |\n",
       "|   4    |   5    | b      |   9    |    20  | Texto  | Texto1 | Texto2 |\n",
       "|   6    |   7    | c      |  13    |    42  | Texto  | Texto1 | Texto2 |\n",
       "|   8    |   9    | a      |  17    |    72  | Texto  | Texto1 | Texto2 |\n",
       "|  10    |  11    | b      |  21    |   110  | Texto  | Texto1 | Texto2 |\n",
       "|  20    |  25    | c      |  45    |   500  | Texto  | Texto1 | Texto2 |\n",
       "|  30    |  35    | a      |  65    |  1050  | Texto  | Texto1 | Texto2 |\n",
       "|  40    |  45    | b      |  85    |  1800  | Texto  | Texto1 | Texto2 |\n",
       "|  50    |  55    | c      | 105    |  2750  | Texto  | Texto1 | Texto2 |\n",
       "|  60    |  65    | a      | 125    |  3900  | Texto  | Texto1 | Texto2 |\n",
       "|  70    |  75    | b      | 145    |  5250  | Texto  | Texto1 | Texto2 |\n",
       "|  80    |  85    | c      | 165    |  6800  | Texto  | Texto1 | Texto2 |\n",
       "|  90    |  95    | a      | 185    |  8550  | Texto  | Texto1 | Texto2 |\n",
       "| 100    | 105    | b      | 205    | 10500  | Texto  | Texto1 | Texto2 |\n",
       "\n"
      ],
      "text/plain": [
       "   Numeros Pares Numeros Ímpares Tipo Soma Multiplicação Texto Texto1 Texto2\n",
       "1    2             3             a      5      6         Texto Texto1 Texto2\n",
       "2    4             5             b      9     20         Texto Texto1 Texto2\n",
       "3    6             7             c     13     42         Texto Texto1 Texto2\n",
       "4    8             9             a     17     72         Texto Texto1 Texto2\n",
       "5   10            11             b     21    110         Texto Texto1 Texto2\n",
       "6   20            25             c     45    500         Texto Texto1 Texto2\n",
       "7   30            35             a     65   1050         Texto Texto1 Texto2\n",
       "8   40            45             b     85   1800         Texto Texto1 Texto2\n",
       "9   50            55             c    105   2750         Texto Texto1 Texto2\n",
       "10  60            65             a    125   3900         Texto Texto1 Texto2\n",
       "11  70            75             b    145   5250         Texto Texto1 Texto2\n",
       "12  80            85             c    165   6800         Texto Texto1 Texto2\n",
       "13  90            95             a    185   8550         Texto Texto1 Texto2\n",
       "14 100           105             b    205  10500         Texto Texto1 Texto2"
      ]
     },
     "metadata": {},
     "output_type": "display_data"
    }
   ],
   "source": [
    "# Excluir várias colunas pelo nome\n",
    "df <- subset(df, select = -c(Texto6, Texto3))\n",
    "df\n"
   ]
  },
  {
   "cell_type": "code",
   "execution_count": 20,
   "metadata": {},
   "outputs": [
    {
     "data": {
      "text/html": [
       "<table>\n",
       "<thead><tr><th scope=col>Numeros Pares</th><th scope=col>Numeros Ímpares</th><th scope=col>Tipo</th><th scope=col>Soma</th><th scope=col>Multiplicação</th><th scope=col>Texto2</th></tr></thead>\n",
       "<tbody>\n",
       "\t<tr><td>  2   </td><td>  3   </td><td>a     </td><td>  5   </td><td>    6 </td><td>Texto2</td></tr>\n",
       "\t<tr><td>  4   </td><td>  5   </td><td>b     </td><td>  9   </td><td>   20 </td><td>Texto2</td></tr>\n",
       "\t<tr><td>  6   </td><td>  7   </td><td>c     </td><td> 13   </td><td>   42 </td><td>Texto2</td></tr>\n",
       "\t<tr><td>  8   </td><td>  9   </td><td>a     </td><td> 17   </td><td>   72 </td><td>Texto2</td></tr>\n",
       "\t<tr><td> 10   </td><td> 11   </td><td>b     </td><td> 21   </td><td>  110 </td><td>Texto2</td></tr>\n",
       "\t<tr><td> 20   </td><td> 25   </td><td>c     </td><td> 45   </td><td>  500 </td><td>Texto2</td></tr>\n",
       "\t<tr><td> 30   </td><td> 35   </td><td>a     </td><td> 65   </td><td> 1050 </td><td>Texto2</td></tr>\n",
       "\t<tr><td> 40   </td><td> 45   </td><td>b     </td><td> 85   </td><td> 1800 </td><td>Texto2</td></tr>\n",
       "\t<tr><td> 50   </td><td> 55   </td><td>c     </td><td>105   </td><td> 2750 </td><td>Texto2</td></tr>\n",
       "\t<tr><td> 60   </td><td> 65   </td><td>a     </td><td>125   </td><td> 3900 </td><td>Texto2</td></tr>\n",
       "\t<tr><td> 70   </td><td> 75   </td><td>b     </td><td>145   </td><td> 5250 </td><td>Texto2</td></tr>\n",
       "\t<tr><td> 80   </td><td> 85   </td><td>c     </td><td>165   </td><td> 6800 </td><td>Texto2</td></tr>\n",
       "\t<tr><td> 90   </td><td> 95   </td><td>a     </td><td>185   </td><td> 8550 </td><td>Texto2</td></tr>\n",
       "\t<tr><td>100   </td><td>105   </td><td>b     </td><td>205   </td><td>10500 </td><td>Texto2</td></tr>\n",
       "</tbody>\n",
       "</table>\n"
      ],
      "text/latex": [
       "\\begin{tabular}{r|llllll}\n",
       " Numeros Pares & Numeros Ímpares & Tipo & Soma & Multiplicação & Texto2\\\\\n",
       "\\hline\n",
       "\t   2    &   3    & a      &   5    &     6  & Texto2\\\\\n",
       "\t   4    &   5    & b      &   9    &    20  & Texto2\\\\\n",
       "\t   6    &   7    & c      &  13    &    42  & Texto2\\\\\n",
       "\t   8    &   9    & a      &  17    &    72  & Texto2\\\\\n",
       "\t  10    &  11    & b      &  21    &   110  & Texto2\\\\\n",
       "\t  20    &  25    & c      &  45    &   500  & Texto2\\\\\n",
       "\t  30    &  35    & a      &  65    &  1050  & Texto2\\\\\n",
       "\t  40    &  45    & b      &  85    &  1800  & Texto2\\\\\n",
       "\t  50    &  55    & c      & 105    &  2750  & Texto2\\\\\n",
       "\t  60    &  65    & a      & 125    &  3900  & Texto2\\\\\n",
       "\t  70    &  75    & b      & 145    &  5250  & Texto2\\\\\n",
       "\t  80    &  85    & c      & 165    &  6800  & Texto2\\\\\n",
       "\t  90    &  95    & a      & 185    &  8550  & Texto2\\\\\n",
       "\t 100    & 105    & b      & 205    & 10500  & Texto2\\\\\n",
       "\\end{tabular}\n"
      ],
      "text/markdown": [
       "\n",
       "| Numeros Pares | Numeros Ímpares | Tipo | Soma | Multiplicação | Texto2 |\n",
       "|---|---|---|---|---|---|\n",
       "|   2    |   3    | a      |   5    |     6  | Texto2 |\n",
       "|   4    |   5    | b      |   9    |    20  | Texto2 |\n",
       "|   6    |   7    | c      |  13    |    42  | Texto2 |\n",
       "|   8    |   9    | a      |  17    |    72  | Texto2 |\n",
       "|  10    |  11    | b      |  21    |   110  | Texto2 |\n",
       "|  20    |  25    | c      |  45    |   500  | Texto2 |\n",
       "|  30    |  35    | a      |  65    |  1050  | Texto2 |\n",
       "|  40    |  45    | b      |  85    |  1800  | Texto2 |\n",
       "|  50    |  55    | c      | 105    |  2750  | Texto2 |\n",
       "|  60    |  65    | a      | 125    |  3900  | Texto2 |\n",
       "|  70    |  75    | b      | 145    |  5250  | Texto2 |\n",
       "|  80    |  85    | c      | 165    |  6800  | Texto2 |\n",
       "|  90    |  95    | a      | 185    |  8550  | Texto2 |\n",
       "| 100    | 105    | b      | 205    | 10500  | Texto2 |\n",
       "\n"
      ],
      "text/plain": [
       "   Numeros Pares Numeros Ímpares Tipo Soma Multiplicação Texto2\n",
       "1    2             3             a      5      6         Texto2\n",
       "2    4             5             b      9     20         Texto2\n",
       "3    6             7             c     13     42         Texto2\n",
       "4    8             9             a     17     72         Texto2\n",
       "5   10            11             b     21    110         Texto2\n",
       "6   20            25             c     45    500         Texto2\n",
       "7   30            35             a     65   1050         Texto2\n",
       "8   40            45             b     85   1800         Texto2\n",
       "9   50            55             c    105   2750         Texto2\n",
       "10  60            65             a    125   3900         Texto2\n",
       "11  70            75             b    145   5250         Texto2\n",
       "12  80            85             c    165   6800         Texto2\n",
       "13  90            95             a    185   8550         Texto2\n",
       "14 100           105             b    205  10500         Texto2"
      ]
     },
     "metadata": {},
     "output_type": "display_data"
    }
   ],
   "source": [
    "# Remover mais de uma coluna por número \n",
    "df <- select(df, -c(6,7))\n",
    "df"
   ]
  },
  {
   "cell_type": "code",
   "execution_count": 23,
   "metadata": {},
   "outputs": [
    {
     "data": {
      "text/html": [
       "<table>\n",
       "<thead><tr><th scope=col>Numeros Pares</th><th scope=col>Numeros Ímpares</th><th scope=col>Tipo</th></tr></thead>\n",
       "<tbody>\n",
       "\t<tr><td>  2</td><td>  3</td><td>a  </td></tr>\n",
       "\t<tr><td>  4</td><td>  5</td><td>b  </td></tr>\n",
       "\t<tr><td>  6</td><td>  7</td><td>c  </td></tr>\n",
       "\t<tr><td>  8</td><td>  9</td><td>a  </td></tr>\n",
       "\t<tr><td> 10</td><td> 11</td><td>b  </td></tr>\n",
       "\t<tr><td> 20</td><td> 25</td><td>c  </td></tr>\n",
       "\t<tr><td> 30</td><td> 35</td><td>a  </td></tr>\n",
       "\t<tr><td> 40</td><td> 45</td><td>b  </td></tr>\n",
       "\t<tr><td> 50</td><td> 55</td><td>c  </td></tr>\n",
       "\t<tr><td> 60</td><td> 65</td><td>a  </td></tr>\n",
       "\t<tr><td> 70</td><td> 75</td><td>b  </td></tr>\n",
       "\t<tr><td> 80</td><td> 85</td><td>c  </td></tr>\n",
       "\t<tr><td> 90</td><td> 95</td><td>a  </td></tr>\n",
       "\t<tr><td>100</td><td>105</td><td>b  </td></tr>\n",
       "</tbody>\n",
       "</table>\n"
      ],
      "text/latex": [
       "\\begin{tabular}{r|lll}\n",
       " Numeros Pares & Numeros Ímpares & Tipo\\\\\n",
       "\\hline\n",
       "\t   2 &   3 & a  \\\\\n",
       "\t   4 &   5 & b  \\\\\n",
       "\t   6 &   7 & c  \\\\\n",
       "\t   8 &   9 & a  \\\\\n",
       "\t  10 &  11 & b  \\\\\n",
       "\t  20 &  25 & c  \\\\\n",
       "\t  30 &  35 & a  \\\\\n",
       "\t  40 &  45 & b  \\\\\n",
       "\t  50 &  55 & c  \\\\\n",
       "\t  60 &  65 & a  \\\\\n",
       "\t  70 &  75 & b  \\\\\n",
       "\t  80 &  85 & c  \\\\\n",
       "\t  90 &  95 & a  \\\\\n",
       "\t 100 & 105 & b  \\\\\n",
       "\\end{tabular}\n"
      ],
      "text/markdown": [
       "\n",
       "| Numeros Pares | Numeros Ímpares | Tipo |\n",
       "|---|---|---|\n",
       "|   2 |   3 | a   |\n",
       "|   4 |   5 | b   |\n",
       "|   6 |   7 | c   |\n",
       "|   8 |   9 | a   |\n",
       "|  10 |  11 | b   |\n",
       "|  20 |  25 | c   |\n",
       "|  30 |  35 | a   |\n",
       "|  40 |  45 | b   |\n",
       "|  50 |  55 | c   |\n",
       "|  60 |  65 | a   |\n",
       "|  70 |  75 | b   |\n",
       "|  80 |  85 | c   |\n",
       "|  90 |  95 | a   |\n",
       "| 100 | 105 | b   |\n",
       "\n"
      ],
      "text/plain": [
       "   Numeros Pares Numeros Ímpares Tipo\n",
       "1    2             3             a   \n",
       "2    4             5             b   \n",
       "3    6             7             c   \n",
       "4    8             9             a   \n",
       "5   10            11             b   \n",
       "6   20            25             c   \n",
       "7   30            35             a   \n",
       "8   40            45             b   \n",
       "9   50            55             c   \n",
       "10  60            65             a   \n",
       "11  70            75             b   \n",
       "12  80            85             c   \n",
       "13  90            95             a   \n",
       "14 100           105             b   "
      ]
     },
     "metadata": {},
     "output_type": "display_data"
    }
   ],
   "source": [
    "## Remover mais de uma coluna por número (coluna inicial até coluna final)\n",
    "df <- select(df, -c(4:6))\n",
    "df"
   ]
  },
  {
   "cell_type": "markdown",
   "metadata": {},
   "source": [
    "### • Exluir Linhas"
   ]
  },
  {
   "cell_type": "code",
   "execution_count": 24,
   "metadata": {},
   "outputs": [
    {
     "data": {
      "text/html": [
       "<table>\n",
       "<thead><tr><th scope=col>Numeros Pares</th><th scope=col>Numeros Ímpares</th><th scope=col>Tipo</th></tr></thead>\n",
       "<tbody>\n",
       "\t<tr><td>  2</td><td>  3</td><td>a  </td></tr>\n",
       "\t<tr><td>  6</td><td>  7</td><td>c  </td></tr>\n",
       "\t<tr><td>  8</td><td>  9</td><td>a  </td></tr>\n",
       "\t<tr><td> 10</td><td> 11</td><td>b  </td></tr>\n",
       "\t<tr><td> 20</td><td> 25</td><td>c  </td></tr>\n",
       "\t<tr><td> 30</td><td> 35</td><td>a  </td></tr>\n",
       "\t<tr><td> 40</td><td> 45</td><td>b  </td></tr>\n",
       "\t<tr><td> 50</td><td> 55</td><td>c  </td></tr>\n",
       "\t<tr><td> 60</td><td> 65</td><td>a  </td></tr>\n",
       "\t<tr><td> 70</td><td> 75</td><td>b  </td></tr>\n",
       "\t<tr><td> 80</td><td> 85</td><td>c  </td></tr>\n",
       "\t<tr><td> 90</td><td> 95</td><td>a  </td></tr>\n",
       "\t<tr><td>100</td><td>105</td><td>b  </td></tr>\n",
       "</tbody>\n",
       "</table>\n"
      ],
      "text/latex": [
       "\\begin{tabular}{r|lll}\n",
       " Numeros Pares & Numeros Ímpares & Tipo\\\\\n",
       "\\hline\n",
       "\t   2 &   3 & a  \\\\\n",
       "\t   6 &   7 & c  \\\\\n",
       "\t   8 &   9 & a  \\\\\n",
       "\t  10 &  11 & b  \\\\\n",
       "\t  20 &  25 & c  \\\\\n",
       "\t  30 &  35 & a  \\\\\n",
       "\t  40 &  45 & b  \\\\\n",
       "\t  50 &  55 & c  \\\\\n",
       "\t  60 &  65 & a  \\\\\n",
       "\t  70 &  75 & b  \\\\\n",
       "\t  80 &  85 & c  \\\\\n",
       "\t  90 &  95 & a  \\\\\n",
       "\t 100 & 105 & b  \\\\\n",
       "\\end{tabular}\n"
      ],
      "text/markdown": [
       "\n",
       "| Numeros Pares | Numeros Ímpares | Tipo |\n",
       "|---|---|---|\n",
       "|   2 |   3 | a   |\n",
       "|   6 |   7 | c   |\n",
       "|   8 |   9 | a   |\n",
       "|  10 |  11 | b   |\n",
       "|  20 |  25 | c   |\n",
       "|  30 |  35 | a   |\n",
       "|  40 |  45 | b   |\n",
       "|  50 |  55 | c   |\n",
       "|  60 |  65 | a   |\n",
       "|  70 |  75 | b   |\n",
       "|  80 |  85 | c   |\n",
       "|  90 |  95 | a   |\n",
       "| 100 | 105 | b   |\n",
       "\n"
      ],
      "text/plain": [
       "   Numeros Pares Numeros Ímpares Tipo\n",
       "1    2             3             a   \n",
       "2    6             7             c   \n",
       "3    8             9             a   \n",
       "4   10            11             b   \n",
       "5   20            25             c   \n",
       "6   30            35             a   \n",
       "7   40            45             b   \n",
       "8   50            55             c   \n",
       "9   60            65             a   \n",
       "10  70            75             b   \n",
       "11  80            85             c   \n",
       "12  90            95             a   \n",
       "13 100           105             b   "
      ]
     },
     "metadata": {},
     "output_type": "display_data"
    }
   ],
   "source": [
    "# EXCLUIR UMA LINHA (POR NúMERO)\n",
    "df <- slice(df, -c(2))\n",
    "df"
   ]
  },
  {
   "cell_type": "code",
   "execution_count": 25,
   "metadata": {},
   "outputs": [
    {
     "data": {
      "text/html": [
       "<table>\n",
       "<thead><tr><th scope=col>Numeros Pares</th><th scope=col>Numeros Ímpares</th><th scope=col>Tipo</th></tr></thead>\n",
       "<tbody>\n",
       "\t<tr><td>  2</td><td>  3</td><td>a  </td></tr>\n",
       "\t<tr><td>  6</td><td>  7</td><td>c  </td></tr>\n",
       "\t<tr><td> 40</td><td> 45</td><td>b  </td></tr>\n",
       "\t<tr><td> 50</td><td> 55</td><td>c  </td></tr>\n",
       "\t<tr><td> 60</td><td> 65</td><td>a  </td></tr>\n",
       "\t<tr><td> 70</td><td> 75</td><td>b  </td></tr>\n",
       "\t<tr><td> 80</td><td> 85</td><td>c  </td></tr>\n",
       "\t<tr><td> 90</td><td> 95</td><td>a  </td></tr>\n",
       "\t<tr><td>100</td><td>105</td><td>b  </td></tr>\n",
       "</tbody>\n",
       "</table>\n"
      ],
      "text/latex": [
       "\\begin{tabular}{r|lll}\n",
       " Numeros Pares & Numeros Ímpares & Tipo\\\\\n",
       "\\hline\n",
       "\t   2 &   3 & a  \\\\\n",
       "\t   6 &   7 & c  \\\\\n",
       "\t  40 &  45 & b  \\\\\n",
       "\t  50 &  55 & c  \\\\\n",
       "\t  60 &  65 & a  \\\\\n",
       "\t  70 &  75 & b  \\\\\n",
       "\t  80 &  85 & c  \\\\\n",
       "\t  90 &  95 & a  \\\\\n",
       "\t 100 & 105 & b  \\\\\n",
       "\\end{tabular}\n"
      ],
      "text/markdown": [
       "\n",
       "| Numeros Pares | Numeros Ímpares | Tipo |\n",
       "|---|---|---|\n",
       "|   2 |   3 | a   |\n",
       "|   6 |   7 | c   |\n",
       "|  40 |  45 | b   |\n",
       "|  50 |  55 | c   |\n",
       "|  60 |  65 | a   |\n",
       "|  70 |  75 | b   |\n",
       "|  80 |  85 | c   |\n",
       "|  90 |  95 | a   |\n",
       "| 100 | 105 | b   |\n",
       "\n"
      ],
      "text/plain": [
       "  Numeros Pares Numeros Ímpares Tipo\n",
       "1   2             3             a   \n",
       "2   6             7             c   \n",
       "3  40            45             b   \n",
       "4  50            55             c   \n",
       "5  60            65             a   \n",
       "6  70            75             b   \n",
       "7  80            85             c   \n",
       "8  90            95             a   \n",
       "9 100           105             b   "
      ]
     },
     "metadata": {},
     "output_type": "display_data"
    }
   ],
   "source": [
    "# EXCLUIR UMA LINHA (POR NúMERO INICIAL ATÉ NÚMERO FINAL)\n",
    "df <- slice(df, -c(3:6))\n",
    "df"
   ]
  },
  {
   "cell_type": "code",
   "execution_count": 26,
   "metadata": {},
   "outputs": [
    {
     "data": {
      "text/html": [
       "<table>\n",
       "<thead><tr><th scope=col>Numeros Pares</th><th scope=col>Numeros Ímpares</th><th scope=col>Tipo</th></tr></thead>\n",
       "<tbody>\n",
       "\t<tr><td>  6</td><td>  7</td><td>c  </td></tr>\n",
       "\t<tr><td> 40</td><td> 45</td><td>b  </td></tr>\n",
       "\t<tr><td> 50</td><td> 55</td><td>c  </td></tr>\n",
       "\t<tr><td> 70</td><td> 75</td><td>b  </td></tr>\n",
       "\t<tr><td> 80</td><td> 85</td><td>c  </td></tr>\n",
       "\t<tr><td>100</td><td>105</td><td>b  </td></tr>\n",
       "</tbody>\n",
       "</table>\n"
      ],
      "text/latex": [
       "\\begin{tabular}{r|lll}\n",
       " Numeros Pares & Numeros Ímpares & Tipo\\\\\n",
       "\\hline\n",
       "\t   6 &   7 & c  \\\\\n",
       "\t  40 &  45 & b  \\\\\n",
       "\t  50 &  55 & c  \\\\\n",
       "\t  70 &  75 & b  \\\\\n",
       "\t  80 &  85 & c  \\\\\n",
       "\t 100 & 105 & b  \\\\\n",
       "\\end{tabular}\n"
      ],
      "text/markdown": [
       "\n",
       "| Numeros Pares | Numeros Ímpares | Tipo |\n",
       "|---|---|---|\n",
       "|   6 |   7 | c   |\n",
       "|  40 |  45 | b   |\n",
       "|  50 |  55 | c   |\n",
       "|  70 |  75 | b   |\n",
       "|  80 |  85 | c   |\n",
       "| 100 | 105 | b   |\n",
       "\n"
      ],
      "text/plain": [
       "  Numeros Pares Numeros Ímpares Tipo\n",
       "1   6             7             c   \n",
       "2  40            45             b   \n",
       "3  50            55             c   \n",
       "4  70            75             b   \n",
       "5  80            85             c   \n",
       "6 100           105             b   "
      ]
     },
     "metadata": {},
     "output_type": "display_data"
    }
   ],
   "source": [
    "#EXCLUIR VÁRIAS LINHAS (POR NOME)\n",
    "df <- df %>% filter(Tipo!=\"a\")\n",
    "df"
   ]
  }
 ],
 "metadata": {
  "kernelspec": {
   "display_name": "R",
   "language": "R",
   "name": "ir"
  },
  "language_info": {
   "codemirror_mode": "r",
   "file_extension": ".r",
   "mimetype": "text/x-r-source",
   "name": "R",
   "pygments_lexer": "r",
   "version": "3.6.1"
  }
 },
 "nbformat": 4,
 "nbformat_minor": 4
}
